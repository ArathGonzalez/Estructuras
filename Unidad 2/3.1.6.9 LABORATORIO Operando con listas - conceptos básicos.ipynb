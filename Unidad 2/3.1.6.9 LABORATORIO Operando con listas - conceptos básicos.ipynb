{
 "cells": [
  {
   "cell_type": "code",
   "execution_count": 5,
   "metadata": {},
   "outputs": [
    {
     "name": "stdout",
     "output_type": "stream",
     "text": [
      "La lista solo con elementos únicos:\n",
      "[1, 2, 4, 6, 9]\n"
     ]
    }
   ],
   "source": [
    "'''\n",
    "escribir un programa que elimine todas las repeticiones de números de la lista.\n",
    "El objetivo es tener una lista en la que todos los números \n",
    "aparezcan no más de una vez.\n",
    "'''\n",
    "miLista = [1, 2, 4, 4, 1, 4, 2, 6, 2, 9]\n",
    "miLista2 = []\n",
    "\n",
    "# coloca tu código aquí\n",
    "for i in miLista:\n",
    "    if i not in miLista2:\n",
    "        miLista2.append(i)\n",
    "        \n",
    "print(\"La lista solo con elementos únicos:\")\n",
    "print(miLista2)"
   ]
  },
  {
   "cell_type": "code",
   "execution_count": null,
   "metadata": {},
   "outputs": [],
   "source": []
  }
 ],
 "metadata": {
  "kernelspec": {
   "display_name": "Python 3",
   "language": "python",
   "name": "python3"
  },
  "language_info": {
   "codemirror_mode": {
    "name": "ipython",
    "version": 3
   },
   "file_extension": ".py",
   "mimetype": "text/x-python",
   "name": "python",
   "nbconvert_exporter": "python",
   "pygments_lexer": "ipython3",
   "version": "3.8.3"
  }
 },
 "nbformat": 4,
 "nbformat_minor": 4
}
