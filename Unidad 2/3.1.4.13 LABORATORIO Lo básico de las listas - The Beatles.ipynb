{
 "cells": [
  {
   "cell_type": "code",
   "execution_count": 4,
   "metadata": {},
   "outputs": [
    {
     "name": "stdout",
     "output_type": "stream",
     "text": [
      "Paso 1: []\n",
      "Paso 2: ['Jhon Lennon', 'Paul Mccartney', 'George Harrison']\n",
      "Incluye miembros de la banda a la lista: 'Stu Sutcliffe' Y 'Pete Best':Stu Sutcliffe\n",
      "Incluye miembros de la banda a la lista: 'Stu Sutcliffe' Y 'Pete Best':Pete Best\n",
      "Paso 3: ['Jhon Lennon', 'Paul Mccartney', 'George Harrison', 'Stu Sutcliffe', 'Pete Best']\n",
      "Paso 4: ['Jhon Lennon', 'Paul Mccartney', 'George Harrison']\n",
      "Paso 5: ['Ringo Starr', 'Jhon Lennon', 'Paul Mccartney', 'George Harrison']\n",
      "Los Fab 4\n"
     ]
    }
   ],
   "source": [
    "# paso 1: Crea una lista vacía llamada beatles.\n",
    "beatles = []\n",
    "print(\"Paso 1:\", beatles)\n",
    "\n",
    "# paso 2: Emplea el método append() para agregar los siguientes miembros de la banda \n",
    "#a la lista:  John Lennon, Paul McCartney y George Harrison\n",
    "\n",
    "beatles.append(\"Jhon Lennon\")\n",
    "beatles.append(\"Paul Mccartney\")\n",
    "beatles.append(\"George Harrison\")\n",
    "print(\"Paso 2:\", beatles)\n",
    "\n",
    "# paso 3: Emplea el ciclofor y el append() para pedirle al usuario que agregue \n",
    "#los siguientes miembros de la banda a la lista: Stu Sutcliffe, y Pete Best.\n",
    "\n",
    "for x in range(0,2):\n",
    "    incluir = input(\"Incluye miembros de la banda a la lista: 'Stu Sutcliffe' Y 'Pete Best':\")\n",
    "    beatles.append(incluir)\n",
    "print(\"Paso 3:\", beatles)\n",
    "\n",
    "# Paso 4: Usa la instrucción del para eliminar a Stu Sutcliffe y Pete Best de la lista.\n",
    "del beatles [3]\n",
    "del beatles [3]\n",
    "print(\"Paso 4:\", beatles)\n",
    "\n",
    "# paso 5: Usa el método insert() para agregar a Ringo Starr al principio de la lista.\n",
    "beatles.insert(0,\"Ringo Starr\")\n",
    "print(\"Paso 5:\", beatles)\n",
    "\n",
    "\n",
    "# probando la longitud de la lista\n",
    "print(\"Los Fab\", len(beatles))"
   ]
  },
  {
   "cell_type": "code",
   "execution_count": null,
   "metadata": {},
   "outputs": [],
   "source": []
  }
 ],
 "metadata": {
  "kernelspec": {
   "display_name": "Python 3",
   "language": "python",
   "name": "python3"
  },
  "language_info": {
   "codemirror_mode": {
    "name": "ipython",
    "version": 3
   },
   "file_extension": ".py",
   "mimetype": "text/x-python",
   "name": "python",
   "nbconvert_exporter": "python",
   "pygments_lexer": "ipython3",
   "version": "3.8.3"
  }
 },
 "nbformat": 4,
 "nbformat_minor": 4
}
