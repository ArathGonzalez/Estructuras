{
 "cells": [
  {
   "cell_type": "code",
   "execution_count": 6,
   "metadata": {},
   "outputs": [
    {
     "name": "stdout",
     "output_type": "stream",
     "text": [
      "[['TORRE', 'CABALLO', 'ALFIL', 'REINA', 'REY', 'ALFIL', 'CABALLO', 'TORRE'], ['PEON', 'PEON', 'PEON', 'PEON', 'PEON', 'PEON', 'PEON', 'PEON'], ['-', '-', '-', '-', '-', '-', '-', '-'], ['-', '-', '-', '-', '-', '-', '-', '-'], ['-', '-', '-', '-', '-', '-', '-', '-'], ['-', '-', '-', '-', '-', '-', '-', '-'], ['PEON', 'PEON', 'PEON', 'PEON', 'PEON', 'PEON', 'PEON', 'PEON'], ['TORRE', 'CABALLO', 'ALFIL', 'REINA', 'REY', 'ALFIL', 'CABALLO', 'TORRE']]\n"
     ]
    }
   ],
   "source": [
    "## Agregar 8 piezas mas al tablero de ajedrez\n",
    "\n",
    "EMPTY = \"-\"\n",
    "TORRE = \"TORRE\"\n",
    "REINA = \"REINA\"\n",
    "REY = \"REY\"\n",
    "PEON = \"PEON\"\n",
    "ALFIL = \"ALFIL\"\n",
    "CABALLO = \"CABALLO\"\n",
    "\n",
    "\n",
    "tablero = []\n",
    "\n",
    "for i in range(8):\n",
    "    fila = [EMPTY for i in range(8)]\n",
    "    tablero.append (fila)\n",
    "\n",
    "tablero[0][0] = TORRE\n",
    "tablero[0][7] = TORRE\n",
    "tablero[7][0] = TORRE\n",
    "tablero[7][7] = TORRE\n",
    "tablero[0][3] = REINA\n",
    "tablero[7][3] = REINA\n",
    "tablero[0][4] = REY\n",
    "tablero[7][4] = REY\n",
    "tablero[1][0] = PEON\n",
    "tablero[1][1] = PEON\n",
    "tablero[1][2] = PEON\n",
    "tablero[1][3] = PEON\n",
    "tablero[1][4] = PEON\n",
    "tablero[1][5] = PEON\n",
    "tablero[1][6] = PEON\n",
    "tablero[1][7] = PEON\n",
    "tablero[6][0] = PEON\n",
    "tablero[6][1] = PEON\n",
    "tablero[6][2] = PEON\n",
    "tablero[6][3] = PEON\n",
    "tablero[6][4] = PEON\n",
    "tablero[6][5] = PEON\n",
    "tablero[6][6] = PEON\n",
    "tablero[6][7] = PEON\n",
    "tablero[0][2] = ALFIL\n",
    "tablero[0][5] = ALFIL\n",
    "tablero[7][2] = ALFIL\n",
    "tablero[7][5] = ALFIL\n",
    "tablero[0][1] = CABALLO \n",
    "tablero[0][6] = CABALLO \n",
    "tablero[7][1] = CABALLO \n",
    "tablero[7][6] = CABALLO \n",
    "\n",
    "\n",
    "\n",
    "\n",
    "print(tablero)\n"
   ]
  },
  {
   "cell_type": "code",
   "execution_count": null,
   "metadata": {},
   "outputs": [],
   "source": []
  }
 ],
 "metadata": {
  "kernelspec": {
   "display_name": "Python 3",
   "language": "python",
   "name": "python3"
  },
  "language_info": {
   "codemirror_mode": {
    "name": "ipython",
    "version": 3
   },
   "file_extension": ".py",
   "mimetype": "text/x-python",
   "name": "python",
   "nbconvert_exporter": "python",
   "pygments_lexer": "ipython3",
   "version": "3.8.3"
  }
 },
 "nbformat": 4,
 "nbformat_minor": 4
}
