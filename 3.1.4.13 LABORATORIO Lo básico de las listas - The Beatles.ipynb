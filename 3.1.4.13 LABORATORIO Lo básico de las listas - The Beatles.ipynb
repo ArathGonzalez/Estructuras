{
 "cells": [
  {
   "cell_type": "code",
   "execution_count": 1,
   "metadata": {},
   "outputs": [
    {
     "name": "stdout",
     "output_type": "stream",
     "text": [
      "Paso 1: []\n",
      "Paso 2: ['Jhon Lennon', 'Paul Mccartney', 'George Harrison']\n",
      "Incluye miembros de la banda a la lista: 'Stu Sutcliffe' Y 'Pete Best': Stu Sutcliffe\n",
      "Incluye miembros de la banda a la lista: 'Stu Sutcliffe' Y 'Pete Best': Pete Best\n",
      "Paso 3: ['Jhon Lennon', 'Paul Mccartney', 'George Harrison', 'Stu Sutcliffe', 'Pete Best']\n",
      "Paso 4: ['Jhon Lennon', 'Paul Mccartney', 'George Harrison']\n",
      "Paso 5: ['Ringo Starr', 'Jhon Lennon', 'Paul Mccartney', 'George Harrison']\n",
      "Los Fab 4\n"
     ]
    }
   ],
   "source": [
    "# paso 1\n",
    "beatles = []\n",
    "print(\"Paso 1:\", beatles)\n",
    "\n",
    "# paso 2\n",
    "beatles.append(\"Jhon Lennon\")\n",
    "beatles.append(\"Paul Mccartney\")\n",
    "beatles.append(\"George Harrison\")\n",
    "print(\"Paso 2:\", beatles)\n",
    "\n",
    "# paso 3\n",
    "for x in range(0,2):\n",
    "    incluir = input(\"Incluye miembros de la banda a la lista: 'Stu Sutcliffe' Y 'Pete Best': \")\n",
    "    beatles.append(incluir)\n",
    "print(\"Paso 3:\", beatles)\n",
    "\n",
    "# etapa 4\n",
    "del beatles [3]\n",
    "del beatles [3]\n",
    "print(\"Paso 4:\", beatles)\n",
    "\n",
    "# paso 5\n",
    "beatles.insert(0,\"Ringo Starr\")\n",
    "print(\"Paso 5:\", beatles)\n",
    "\n",
    "\n",
    "# probando la longitud de la lista\n",
    "print(\"Los Fab\", len(beatles))"
   ]
  },
  {
   "cell_type": "code",
   "execution_count": null,
   "metadata": {},
   "outputs": [],
   "source": []
  }
 ],
 "metadata": {
  "kernelspec": {
   "display_name": "Python 3",
   "language": "python",
   "name": "python3"
  },
  "language_info": {
   "codemirror_mode": {
    "name": "ipython",
    "version": 3
   },
   "file_extension": ".py",
   "mimetype": "text/x-python",
   "name": "python",
   "nbconvert_exporter": "python",
   "pygments_lexer": "ipython3",
   "version": "3.8.3"
  }
 },
 "nbformat": 4,
 "nbformat_minor": 4
}
