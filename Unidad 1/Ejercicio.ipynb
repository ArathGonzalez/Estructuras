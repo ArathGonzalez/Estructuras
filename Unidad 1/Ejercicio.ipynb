{
 "cells": [
  {
   "cell_type": "code",
   "execution_count": 10,
   "metadata": {},
   "outputs": [
    {
     "name": "stdout",
     "output_type": "stream",
     "text": [
      "Inserte El Valor De La Variable A: 15.0\n",
      "Inserte El Valor de la Variable B: 15.0\n",
      "\n",
      "La Suma es 30.0\n",
      "\n",
      "La Resta es 0.0\n",
      "\n",
      "La Multiplicacion es 225.0\n",
      "\n",
      "La Division es 1.0\n"
     ]
    }
   ],
   "source": [
    "A=float(input(\"Inserte El Valor De La Variable A: \"))\n",
    "B=float(input(\"Inserte El Valor de la Variable B: \"))\n",
    "\n",
    "print(\"\\nLa Suma es\",A+B)\n",
    "print(\"\\nLa Resta es\",A-B)\n",
    "print(\"\\nLa Multiplicacion es\",A*B)\n",
    "print(\"\\nLa Division es\",A//B)"
   ]
  },
  {
   "cell_type": "code",
   "execution_count": null,
   "metadata": {},
   "outputs": [],
   "source": []
  }
 ],
 "metadata": {
  "kernelspec": {
   "display_name": "Python 3",
   "language": "python",
   "name": "python3"
  },
  "language_info": {
   "codemirror_mode": {
    "name": "ipython",
    "version": 3
   },
   "file_extension": ".py",
   "mimetype": "text/x-python",
   "name": "python",
   "nbconvert_exporter": "python",
   "pygments_lexer": "ipython3",
   "version": "3.8.3"
  }
 },
 "nbformat": 4,
 "nbformat_minor": 4
}
