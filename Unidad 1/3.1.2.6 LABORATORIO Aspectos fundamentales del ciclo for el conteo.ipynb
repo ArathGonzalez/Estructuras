{
 "cells": [
  {
   "cell_type": "code",
   "execution_count": 10,
   "metadata": {},
   "outputs": [
    {
     "name": "stdout",
     "output_type": "stream",
     "text": [
      "1 Missisipi\n",
      "2 Missisipi\n",
      "3 Missisipi\n",
      "4 Missisipi\n",
      "5 Missisipi\n",
      "¡¡¡Listos o no ahi voy!!!\n"
     ]
    }
   ],
   "source": [
    "import time\n",
    "## Escribe un ciclo for que cuente hasta cinco.\n",
    "for i in range(1,6):\n",
    "## Cuerpo del ciclo:\n",
    "        print(i, \"Missisipi\")\n",
    "## time.sleep()\n",
    "        time.sleep(1)\n",
    "## Funcion de impresion\n",
    "print(\"¡¡¡Listos o no ahi voy!!!\")"
   ]
  },
  {
   "cell_type": "code",
   "execution_count": null,
   "metadata": {},
   "outputs": [],
   "source": []
  }
 ],
 "metadata": {
  "kernelspec": {
   "display_name": "Python 3",
   "language": "python",
   "name": "python3"
  },
  "language_info": {
   "codemirror_mode": {
    "name": "ipython",
    "version": 3
   },
   "file_extension": ".py",
   "mimetype": "text/x-python",
   "name": "python",
   "nbconvert_exporter": "python",
   "pygments_lexer": "ipython3",
   "version": "3.8.3"
  }
 },
 "nbformat": 4,
 "nbformat_minor": 4
}
