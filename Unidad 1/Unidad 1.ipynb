{
 "cells": [
  {
   "cell_type": "markdown",
   "metadata": {},
   "source": [
    "# Jesus Arath Gonzalez Maldonado\n",
    "## Estructuras Y Organizacion De Datos"
   ]
  },
  {
   "cell_type": "markdown",
   "metadata": {},
   "source": [
    "### La Funcion Print"
   ]
  },
  {
   "cell_type": "code",
   "execution_count": 18,
   "metadata": {},
   "outputs": [
    {
     "name": "stdout",
     "output_type": "stream",
     "text": [
      "\n",
      "La variable x tiene el valor de :  10\n",
      "\n",
      "La variable c tiene un valor de 5\n",
      "\n",
      "El valor de x es: 10 \n",
      "Y el valor de c es:  5\n",
      "\n",
      "hola Mundo\n",
      "\n",
      "Animo, tu puedes programador\n"
     ]
    }
   ],
   "source": [
    "X= 10\n",
    "C= 5\n",
    "print(\"\\nLa variable x tiene el valor de : \",X)\n",
    "\n",
    "print(\"\\nLa variable c tiene un valor de\",C)\n",
    "\n",
    "print(\"\\nEl valor de x es:\",X, \"\\nY el valor de c es: \",C)\n",
    "\n",
    "print(\"\\nhola Mundo\")\n",
    "\n",
    "print(\"\\nAnimo, tu puedes programador\")\n"
   ]
  },
  {
   "cell_type": "code",
   "execution_count": 19,
   "metadata": {
    "scrolled": true
   },
   "outputs": [
    {
     "name": "stdout",
     "output_type": "stream",
     "text": [
      "El valor de x es: 10 ***** Y el valor de c es: 5\n"
     ]
    }
   ],
   "source": [
    "#Usamos el parametro \"end\" para especificar cual es el terminador\n",
    "#de linea en una instruccion print\n",
    "print(\"El valor de x es:\",X, end=' *****')\n",
    "print(\" Y el valor de c es:\",C)\n"
   ]
  },
  {
   "cell_type": "code",
   "execution_count": 20,
   "metadata": {},
   "outputs": [
    {
     "name": "stdout",
     "output_type": "stream",
     "text": [
      "El valor de x es=10\n",
      "Y el valor de c es=5\n"
     ]
    }
   ],
   "source": [
    "#Especificar el texto que separa los argumentos de la funcion print\n",
    "#parameto \"sep\"\n",
    "print(\"El valor de x es\",X, sep='=')\n",
    "print(\"Y el valor de c es\",C, sep='=')"
   ]
  },
  {
   "cell_type": "code",
   "execution_count": 21,
   "metadata": {},
   "outputs": [
    {
     "name": "stdout",
     "output_type": "stream",
     "text": [
      "El Valor De x es=>10\n",
      "\n",
      "\n",
      "El valor de 'c' es 5\n"
     ]
    }
   ],
   "source": [
    "#Especificar separador de argumentos y el terminador de lineas\n",
    "print('El Valor De x es', X , sep='=>', end='\\n\\n\\n')\n",
    "print('El valor de \\'c\\' es',C)"
   ]
  },
  {
   "cell_type": "markdown",
   "metadata": {},
   "source": [
    "### Literales"
   ]
  },
  {
   "cell_type": "code",
   "execution_count": 31,
   "metadata": {},
   "outputs": [
    {
     "name": "stdout",
     "output_type": "stream",
     "text": [
      "texto\n"
     ]
    }
   ],
   "source": [
    "x= 11500000\n",
    "x= 115.58\n",
    "x= \"texto\"\n",
    "print(x)"
   ]
  },
  {
   "cell_type": "code",
   "execution_count": 5,
   "metadata": {},
   "outputs": [
    {
     "name": "stdout",
     "output_type": "stream",
     "text": [
      "88000000\n"
     ]
    }
   ],
   "source": [
    "#numeros con separadores de miles\n",
    "x= 11_000_000\n",
    "y=8\n",
    "print(x*y)"
   ]
  },
  {
   "cell_type": "code",
   "execution_count": 14,
   "metadata": {},
   "outputs": [
    {
     "name": "stdout",
     "output_type": "stream",
     "text": [
      "668\n"
     ]
    }
   ],
   "source": [
    "##Valores Octales\n",
    "a= 0o1234\n",
    "print(a)\n"
   ]
  },
  {
   "cell_type": "code",
   "execution_count": 15,
   "metadata": {},
   "outputs": [
    {
     "name": "stdout",
     "output_type": "stream",
     "text": [
      "4660\n"
     ]
    }
   ],
   "source": [
    "##Valores hexadicimal\n",
    "b= 0x1234\n",
    "print(b)\n"
   ]
  },
  {
   "cell_type": "code",
   "execution_count": 12,
   "metadata": {},
   "outputs": [
    {
     "name": "stdout",
     "output_type": "stream",
     "text": [
      "0.5\n"
     ]
    }
   ],
   "source": [
    "z=.5\n",
    "print(z)"
   ]
  },
  {
   "cell_type": "code",
   "execution_count": 8,
   "metadata": {},
   "outputs": [
    {
     "name": "stdout",
     "output_type": "stream",
     "text": [
      "30000000 310000000.0\n"
     ]
    }
   ],
   "source": [
    "vl= 30000000\n",
    "vl2= 3.1e8\n",
    "print(vl,vl2)"
   ]
  },
  {
   "cell_type": "code",
   "execution_count": 5,
   "metadata": {},
   "outputs": [
    {
     "name": "stdout",
     "output_type": "stream",
     "text": [
      "8000.0\n"
     ]
    }
   ],
   "source": [
    "w= 0.08e5\n",
    "print(w)"
   ]
  },
  {
   "cell_type": "code",
   "execution_count": 34,
   "metadata": {},
   "outputs": [
    {
     "name": "stdout",
     "output_type": "stream",
     "text": [
      "I'm Batman\n"
     ]
    }
   ],
   "source": [
    "M= \"I'm Batman\"\n",
    "print(M)"
   ]
  },
  {
   "cell_type": "code",
   "execution_count": 9,
   "metadata": {},
   "outputs": [
    {
     "name": "stdout",
     "output_type": "stream",
     "text": [
      "***************\n"
     ]
    }
   ],
   "source": [
    "print(\"***************\")"
   ]
  },
  {
   "cell_type": "code",
   "execution_count": 1,
   "metadata": {},
   "outputs": [
    {
     "name": "stdout",
     "output_type": "stream",
     "text": [
      "F F F F F F F F F F F F F F F F F F F F F F F F F F F F F F F F F F F F F F F F F F F F F F F F F F F F F F F F F F F F F F F F F F F F F F F F F F F F F F F F F F F F F F F F F F F F F F F F F F F F \n"
     ]
    }
   ],
   "source": [
    "print(\"F \" * 100)"
   ]
  },
  {
   "cell_type": "markdown",
   "metadata": {},
   "source": [
    "# Operadores"
   ]
  },
  {
   "cell_type": "code",
   "execution_count": 13,
   "metadata": {},
   "outputs": [
    {
     "name": "stdout",
     "output_type": "stream",
     "text": [
      "243\n"
     ]
    }
   ],
   "source": [
    "##Exponenciacion\n",
    "print(3**5)"
   ]
  },
  {
   "cell_type": "code",
   "execution_count": 14,
   "metadata": {},
   "outputs": [
    {
     "name": "stdout",
     "output_type": "stream",
     "text": [
      "9.0\n"
     ]
    }
   ],
   "source": [
    "##Multiplicacion\n",
    "print(3*3.)"
   ]
  },
  {
   "cell_type": "code",
   "execution_count": 18,
   "metadata": {},
   "outputs": [
    {
     "name": "stdout",
     "output_type": "stream",
     "text": [
      "5\n"
     ]
    }
   ],
   "source": [
    "##Division\n",
    "print(10/2)"
   ]
  },
  {
   "cell_type": "code",
   "execution_count": 20,
   "metadata": {},
   "outputs": [
    {
     "name": "stdout",
     "output_type": "stream",
     "text": [
      "2\n"
     ]
    }
   ],
   "source": [
    "##Division Entera\n",
    "print(6//3)"
   ]
  },
  {
   "cell_type": "code",
   "execution_count": 21,
   "metadata": {},
   "outputs": [
    {
     "name": "stdout",
     "output_type": "stream",
     "text": [
      "1\n"
     ]
    }
   ],
   "source": [
    "##Modulo\n",
    "print(9%2)"
   ]
  },
  {
   "cell_type": "code",
   "execution_count": 23,
   "metadata": {},
   "outputs": [
    {
     "name": "stdout",
     "output_type": "stream",
     "text": [
      "2\n"
     ]
    }
   ],
   "source": [
    "##Suma\n",
    "print(+2)"
   ]
  },
  {
   "cell_type": "code",
   "execution_count": 25,
   "metadata": {},
   "outputs": [
    {
     "name": "stdout",
     "output_type": "stream",
     "text": [
      "25\n"
     ]
    }
   ],
   "source": [
    "##Prioridad de las operaciones\n",
    "print((2 + 3) * 5)"
   ]
  },
  {
   "cell_type": "code",
   "execution_count": 29,
   "metadata": {},
   "outputs": [
    {
     "name": "stdout",
     "output_type": "stream",
     "text": [
      "256\n"
     ]
    }
   ],
   "source": [
    "print(2 ** 2 ** 3)"
   ]
  },
  {
   "cell_type": "code",
   "execution_count": 32,
   "metadata": {},
   "outputs": [],
   "source": [
    "##Variables\n",
    "x=123\n",
    "x=\"Hola raza\""
   ]
  },
  {
   "cell_type": "code",
   "execution_count": null,
   "metadata": {},
   "outputs": [],
   "source": [
    "##True\n",
    "TRue= 1\n",
    "true=1\n",
    "True"
   ]
  },
  {
   "cell_type": "code",
   "execution_count": 33,
   "metadata": {},
   "outputs": [],
   "source": [
    "Import=1"
   ]
  },
  {
   "cell_type": "code",
   "execution_count": 34,
   "metadata": {},
   "outputs": [
    {
     "name": "stdout",
     "output_type": "stream",
     "text": [
      "1\n"
     ]
    }
   ],
   "source": [
    "cualquier_variable=1\n",
    "print(cualquier_variable)"
   ]
  },
  {
   "cell_type": "code",
   "execution_count": 38,
   "metadata": {},
   "outputs": [
    {
     "name": "stdout",
     "output_type": "stream",
     "text": [
      "125\n"
     ]
    }
   ],
   "source": [
    "##Potencia\n",
    "x=5\n",
    "x= x ** 3\n",
    "print(x)"
   ]
  },
  {
   "cell_type": "code",
   "execution_count": 39,
   "metadata": {},
   "outputs": [
    {
     "name": "stdout",
     "output_type": "stream",
     "text": [
      "125\n"
     ]
    }
   ],
   "source": [
    "##Simplificacion de operaciones\n",
    "\n",
    "x= 5\n",
    "x**= 3\n",
    "print(x)"
   ]
  },
  {
   "cell_type": "code",
   "execution_count": 11,
   "metadata": {},
   "outputs": [
    {
     "name": "stdout",
     "output_type": "stream",
     "text": [
      "Dime algo, tuve accidente\n",
      "mmmm... tuve accidente ....¿En Serio!!?\n"
     ]
    }
   ],
   "source": [
    "##Entrada De Datos input\n",
    "algo= input(\"Dime algo, \")\n",
    "print(\"mmmm...\", algo,\"....¿En Serio!!?\")"
   ]
  },
  {
   "cell_type": "code",
   "execution_count": 16,
   "metadata": {},
   "outputs": [
    {
     "name": "stdout",
     "output_type": "stream",
     "text": [
      "Dame un numero para multiplicar 10\n",
      "2\n"
     ]
    }
   ],
   "source": [
    "x= int(input(\"Dame un numero para multiplicar \"))\n",
    "f=x//5\n",
    "print(f)"
   ]
  },
  {
   "cell_type": "code",
   "execution_count": 24,
   "metadata": {},
   "outputs": [
    {
     "name": "stdout",
     "output_type": "stream",
     "text": [
      "Inserta La Longitud Del Primer Cateto: 15\n",
      "Inserta La Longitud Del Segundo Cateto: 19\n",
      "586.0\n"
     ]
    }
   ],
   "source": [
    "cateto_a= float(input(\"Inserta La Longitud Del Primer Cateto: \"))\n",
    "cateto_b= float(input(\"Inserta La Longitud Del Segundo Cateto: \"))\n",
    "hipo= (cateto_a**2+cateto_b**2)\n",
    "print(hipo)"
   ]
  },
  {
   "cell_type": "code",
   "execution_count": 4,
   "metadata": {},
   "outputs": [
    {
     "name": "stdout",
     "output_type": "stream",
     "text": [
      "Me puedes dar tus nombre por favor:? Jesus Arath\n",
      "Me puedes Dar Tus Apellido por favor:? Gonzalez Maldonado\n",
      "Gracias\n",
      "\n",
      "Tu nombre es Jesus Arath Gonzalez Maldonado.\n"
     ]
    }
   ],
   "source": [
    "nom= input(\"Me puedes dar tus nombre por favor:? \")\n",
    "ape= input(\"Me puedes Dar Tus Apellido por favor:? \")\n",
    "print(\"Gracias\")\n",
    "print(\"\\nTu nombre es \"+nom+\" \"+ape+\".\")\n"
   ]
  },
  {
   "cell_type": "code",
   "execution_count": 23,
   "metadata": {},
   "outputs": [
    {
     "name": "stdout",
     "output_type": "stream",
     "text": [
      "22222\n",
      "10\n"
     ]
    }
   ],
   "source": [
    "print(\"2\"*5)\n",
    "print(2*5)\n"
   ]
  },
  {
   "cell_type": "code",
   "execution_count": null,
   "metadata": {},
   "outputs": [],
   "source": []
  },
  {
   "cell_type": "code",
   "execution_count": 22,
   "metadata": {},
   "outputs": [
    {
     "name": "stdout",
     "output_type": "stream",
     "text": [
      "b es mayor que a\n",
      "b vale => 12500\n",
      "Fin del if\n"
     ]
    }
   ],
   "source": [
    "## if-else\n",
    "a= 2500\n",
    "b= 12500\n",
    "if b>a:\n",
    "    print(\"b es mayor que a\")\n",
    "    print(\"b vale =>\", b)\n",
    "else:\n",
    "    print(\"a es mayor que b\")\n",
    "    print(\"a vale =>\", a)\n",
    "print(\"Fin del if\")"
   ]
  },
  {
   "cell_type": "code",
   "execution_count": 23,
   "metadata": {},
   "outputs": [
    {
     "name": "stdout",
     "output_type": "stream",
     "text": [
      "a es igual que b\n",
      "a y b valen => 3000\n",
      "Fin del if\n"
     ]
    }
   ],
   "source": [
    "##if-elif-else\n",
    "a= 3000\n",
    "b= 3000\n",
    "if b>a:\n",
    "    print(\"b es mayor que a\")\n",
    "    print(\"b vale =>\", b)\n",
    "elif a==b:\n",
    "    print(\"a es igual que b\")\n",
    "    print(\"a y b valen =>\", a)\n",
    "else:\n",
    "    print(\"a es mayor que b\")\n",
    "    print(\"a vale =>\", a)\n",
    "print(\"Fin del if\")"
   ]
  },
  {
   "cell_type": "code",
   "execution_count": 27,
   "metadata": {},
   "outputs": [
    {
     "name": "stdout",
     "output_type": "stream",
     "text": [
      "x es mayor que y\n"
     ]
    }
   ],
   "source": [
    "# if y if.. else en version corta o simplificada\n",
    "x=20\n",
    "y=30\n",
    "\n",
    "print(\"y es menor que x\") if x > y else print(\"x es mayor que y\")"
   ]
  },
  {
   "cell_type": "code",
   "execution_count": 48,
   "metadata": {
    "scrolled": false
   },
   "outputs": [
    {
     "name": "stdout",
     "output_type": "stream",
     "text": [
      "1\n",
      "elefantes\n",
      "2\n",
      "elefantes\n",
      "3\n",
      "elefantes\n",
      "4\n",
      "elefantes\n",
      "5\n",
      "elefantes\n",
      "6\n",
      "elefantes\n",
      "7\n",
      "elefantes\n",
      "8\n",
      "elefantes\n",
      "9\n",
      "elefantes\n",
      "10\n",
      "elefantes\n",
      "\n",
      "Entro al if\n",
      "\n",
      "Fuera de while\n"
     ]
    }
   ],
   "source": [
    "#ciclo while\n",
    "i=1\n",
    "while i <= 1000:\n",
    "    print(i)\n",
    "    print(\"elefantes\")\n",
    "    if i==10:\n",
    "        print(\"\\nEntro al if\")\n",
    "        break\n",
    "    i+=1    \n",
    "print(\"\\nFuera de while\")\n"
   ]
  },
  {
   "cell_type": "code",
   "execution_count": 10,
   "metadata": {},
   "outputs": [
    {
     "name": "stdout",
     "output_type": "stream",
     "text": [
      "1\n",
      "2\n",
      "3\n",
      "4\n",
      "5\n",
      "6\n",
      "7\n",
      "8\n",
      "9\n",
      "10\n"
     ]
    }
   ],
   "source": [
    "## ciclo for rango inicial y final\n",
    "for x in range(1, 11):\n",
    "    print(x)\n"
   ]
  },
  {
   "cell_type": "code",
   "execution_count": 7,
   "metadata": {},
   "outputs": [
    {
     "name": "stdout",
     "output_type": "stream",
     "text": [
      "0\n",
      "1\n",
      "2\n",
      "3\n",
      "4\n",
      "5\n",
      "6\n",
      "7\n",
      "8\n",
      "9\n",
      "10\n"
     ]
    }
   ],
   "source": [
    "## Si no se especifica un rango inicial iniciara desde 0\n",
    "for x in range(11):\n",
    "    print(x)"
   ]
  },
  {
   "cell_type": "code",
   "execution_count": 9,
   "metadata": {},
   "outputs": [
    {
     "name": "stdout",
     "output_type": "stream",
     "text": [
      "1\n",
      "3\n",
      "5\n",
      "7\n",
      "9\n"
     ]
    }
   ],
   "source": [
    "## indicando un valor de incremento por cada repeticion o iteracion\n",
    "for x in range(1, 10, 2):\n",
    "    print(x)"
   ]
  },
  {
   "cell_type": "code",
   "execution_count": 12,
   "metadata": {},
   "outputs": [
    {
     "name": "stdout",
     "output_type": "stream",
     "text": [
      "1\n",
      "2\n",
      "3\n",
      "4\n",
      "98\n"
     ]
    }
   ],
   "source": [
    "## Lista de valores\n",
    "frutas= [\"naranja\", \"platano\", \"Sandia\", \"Papaya\"]\n",
    "numeros= [1, 2, 3, 4, 98]\n",
    "for x in numeros:\n",
    "    print(x)\n",
    "    if x == \"papaya\":\n",
    "        break"
   ]
  },
  {
   "cell_type": "code",
   "execution_count": 16,
   "metadata": {},
   "outputs": [
    {
     "name": "stdout",
     "output_type": "stream",
     "text": [
      "Digite el numero a multiplicar 10\n",
      "8 X 1 = 8\n",
      "8 X 2 = 16\n",
      "8 X 3 = 24\n",
      "8 X 4 = 32\n",
      "8 X 5 = 40\n",
      "8 X 6 = 48\n",
      "8 X 7 = 56\n",
      "8 X 8 = 64\n",
      "8 X 9 = 72\n",
      "8 X 10 = 80\n",
      "8 X 11 = 88\n",
      "8 X 12 = 96\n",
      "8 X 13 = 104\n",
      "8 X 14 = 112\n",
      "8 X 15 = 120\n",
      "8 X 16 = 128\n",
      "8 X 17 = 136\n",
      "8 X 18 = 144\n",
      "8 X 19 = 152\n",
      "8 X 20 = 160\n"
     ]
    }
   ],
   "source": [
    "##Multiplicar un numero \n",
    "numero= int(input(\"Digite el numero a multiplicar \"))\n",
    "for i in range(1,21):\n",
    "    print(valor, \"X\", i, \"=\", valor*i)"
   ]
  },
  {
   "cell_type": "code",
   "execution_count": 1,
   "metadata": {},
   "outputs": [
    {
     "name": "stdout",
     "output_type": "stream",
     "text": [
      "1.0\n"
     ]
    }
   ],
   "source": [
    "x= 1/1\n",
    "print(x)"
   ]
  },
  {
   "cell_type": "code",
   "execution_count": null,
   "metadata": {},
   "outputs": [],
   "source": []
  }
 ],
 "metadata": {
  "kernelspec": {
   "display_name": "Python 3",
   "language": "python",
   "name": "python3"
  },
  "language_info": {
   "codemirror_mode": {
    "name": "ipython",
    "version": 3
   },
   "file_extension": ".py",
   "mimetype": "text/x-python",
   "name": "python",
   "nbconvert_exporter": "python",
   "pygments_lexer": "ipython3",
   "version": "3.8.3"
  }
 },
 "nbformat": 4,
 "nbformat_minor": 4
}
