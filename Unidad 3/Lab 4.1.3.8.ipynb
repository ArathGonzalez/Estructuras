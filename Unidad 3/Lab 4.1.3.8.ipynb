{
 "cells": [
  {
   "cell_type": "code",
   "execution_count": 7,
   "metadata": {},
   "outputs": [
    {
     "name": "stdout",
     "output_type": "stream",
     "text": [
      "366\n"
     ]
    }
   ],
   "source": [
    "def isYearLeap(year):\n",
    "#\n",
    "# tu código del LAB 4.1.3.6\n",
    "#\n",
    "    if year < 1582:\n",
    "        return False\n",
    "    elif year %4 != 0:\n",
    "        return False\n",
    "    elif year %100 != 0:\n",
    "        return True\n",
    "    elif year %400 != 0:\n",
    "        return False\n",
    "    else:\n",
    "        return True\n",
    "\n",
    "def daysInMonth(year, month):\n",
    "#\n",
    "# tu código del LAB 4.1.3.7\n",
    "#\n",
    "    monthDays = [31, 28, 31, 30, 31, 30, 31, 31, 30, 31, 30, 31]\n",
    "    if isYearLeap(year) and month == 2:\n",
    "            return 29\n",
    "    return monthDays [month - 1]\n",
    "    \n",
    "\n",
    "def dayOfYear(year, month, day):\n",
    "#\n",
    "# pon tu código nuevo aquí\n",
    "#\n",
    "    # Validamos Las Entradas\n",
    "    if year < 1582:\n",
    "        return None\n",
    "    if month > 12 or month < 1:\n",
    "        return None\n",
    "    if day > 31 or day < 1:\n",
    "        return None\n",
    "    \n",
    "    # Calculamos Los Dias\n",
    "    totalDays = day\n",
    "    month = month - 1\n",
    "    while month > 0:\n",
    "        totalDays += daysInMonth(year, month)\n",
    "        month -= 1\n",
    "    \n",
    "    return totalDays\n",
    "        \n",
    "print(dayOfYear(2004, 12, 31))"
   ]
  },
  {
   "cell_type": "code",
   "execution_count": null,
   "metadata": {},
   "outputs": [],
   "source": []
  }
 ],
 "metadata": {
  "kernelspec": {
   "display_name": "Python 3",
   "language": "python",
   "name": "python3"
  },
  "language_info": {
   "codemirror_mode": {
    "name": "ipython",
    "version": 3
   },
   "file_extension": ".py",
   "mimetype": "text/x-python",
   "name": "python",
   "nbconvert_exporter": "python",
   "pygments_lexer": "ipython3",
   "version": "3.8.3"
  }
 },
 "nbformat": 4,
 "nbformat_minor": 4
}
