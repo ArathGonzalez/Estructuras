{
 "cells": [
  {
   "cell_type": "markdown",
   "metadata": {},
   "source": [
    "## Unidad 3"
   ]
  },
  {
   "cell_type": "code",
   "execution_count": null,
   "metadata": {},
   "outputs": [],
   "source": [
    "## Funciones "
   ]
  },
  {
   "cell_type": "code",
   "execution_count": 1,
   "metadata": {},
   "outputs": [],
   "source": [
    "def mi_funcion_hola():\n",
    "    print(\"Hola Mundo, desde mi funcion\")"
   ]
  },
  {
   "cell_type": "code",
   "execution_count": 3,
   "metadata": {},
   "outputs": [
    {
     "name": "stdout",
     "output_type": "stream",
     "text": [
      "Hola Mundo, desde mi funcion\n"
     ]
    }
   ],
   "source": [
    "mi_funcion_hola ()"
   ]
  },
  {
   "cell_type": "code",
   "execution_count": 4,
   "metadata": {},
   "outputs": [
    {
     "name": "stdout",
     "output_type": "stream",
     "text": [
      "Hola Mundo, desde mi funcion\n"
     ]
    }
   ],
   "source": [
    "mi_funcion_hola ()"
   ]
  },
  {
   "cell_type": "code",
   "execution_count": 11,
   "metadata": {},
   "outputs": [
    {
     "name": "stdout",
     "output_type": "stream",
     "text": [
      "2 Por 1 = 2\n",
      "2 Por 2 = 4\n",
      "2 Por 3 = 6\n",
      "2 Por 4 = 8\n",
      "2 Por 5 = 10\n",
      "2 Por 6 = 12\n",
      "2 Por 7 = 14\n",
      "2 Por 8 = 16\n",
      "2 Por 9 = 18\n",
      "2 Por 10 = 20\n"
     ]
    }
   ],
   "source": [
    "## Tabla De Multiplicar Del 2\n",
    "for i in range(1,11):\n",
    "        print(2, \"Por\", i, \"=\", 2 * i)\n"
   ]
  },
  {
   "cell_type": "code",
   "execution_count": 5,
   "metadata": {},
   "outputs": [],
   "source": [
    "def tablas_multiplicar(x):\n",
    "    for i in range(1,11):\n",
    "        print(x, \"Por\", i, \"=\", x * i)"
   ]
  },
  {
   "cell_type": "code",
   "execution_count": 6,
   "metadata": {},
   "outputs": [
    {
     "name": "stdout",
     "output_type": "stream",
     "text": [
      "2 Por 1 = 2\n",
      "2 Por 2 = 4\n",
      "2 Por 3 = 6\n",
      "2 Por 4 = 8\n",
      "2 Por 5 = 10\n",
      "2 Por 6 = 12\n",
      "2 Por 7 = 14\n",
      "2 Por 8 = 16\n",
      "2 Por 9 = 18\n",
      "2 Por 10 = 20\n"
     ]
    }
   ],
   "source": [
    "tablas_multiplicar(2)"
   ]
  },
  {
   "cell_type": "code",
   "execution_count": 7,
   "metadata": {},
   "outputs": [
    {
     "name": "stdout",
     "output_type": "stream",
     "text": [
      "5410 Por 1 = 5410\n",
      "5410 Por 2 = 10820\n",
      "5410 Por 3 = 16230\n",
      "5410 Por 4 = 21640\n",
      "5410 Por 5 = 27050\n",
      "5410 Por 6 = 32460\n",
      "5410 Por 7 = 37870\n",
      "5410 Por 8 = 43280\n",
      "5410 Por 9 = 48690\n",
      "5410 Por 10 = 54100\n"
     ]
    }
   ],
   "source": [
    "tablas_multiplicar(5410)"
   ]
  },
  {
   "cell_type": "code",
   "execution_count": 8,
   "metadata": {},
   "outputs": [
    {
     "name": "stdout",
     "output_type": "stream",
     "text": [
      "9 Por 1 = 9\n",
      "9 Por 2 = 18\n",
      "9 Por 3 = 27\n",
      "9 Por 4 = 36\n",
      "9 Por 5 = 45\n",
      "9 Por 6 = 54\n",
      "9 Por 7 = 63\n",
      "9 Por 8 = 72\n",
      "9 Por 9 = 81\n",
      "9 Por 10 = 90\n"
     ]
    }
   ],
   "source": [
    "tablas_multiplicar(9)"
   ]
  },
  {
   "cell_type": "code",
   "execution_count": 12,
   "metadata": {},
   "outputs": [],
   "source": [
    "def calcularDoble(qaz):\n",
    "    qaz = qaz * 2\n",
    "    return qaz"
   ]
  },
  {
   "cell_type": "code",
   "execution_count": 15,
   "metadata": {},
   "outputs": [
    {
     "name": "stdout",
     "output_type": "stream",
     "text": [
      "6\n"
     ]
    }
   ],
   "source": [
    "x = calcularDoble(3)\n",
    "print(x)"
   ]
  },
  {
   "cell_type": "markdown",
   "metadata": {},
   "source": [
    "## Paso De parametros En Base A Su Posicion"
   ]
  },
  {
   "cell_type": "code",
   "execution_count": 1,
   "metadata": {},
   "outputs": [
    {
     "name": "stdout",
     "output_type": "stream",
     "text": [
      "Hola mi nombre es: Luke Skywalker\n",
      "Hola mi nombre es: Jesse Quick\n",
      "Hola mi nombre es: Clark Kent\n"
     ]
    }
   ],
   "source": [
    "## Paso de parametros en base a su posicion\n",
    "def presentar(primerNombre, segundoNombre):\n",
    "    print(\"Hola mi nombre es:\", primerNombre, segundoNombre)\n",
    "\n",
    "    \n",
    "presentar(\"Luke\", \"Skywalker\")\n",
    "presentar(\"Jesse\", \"Quick\")\n",
    "presentar(\"Clark\", \"Kent\")"
   ]
  },
  {
   "cell_type": "code",
   "execution_count": 2,
   "metadata": {},
   "outputs": [
    {
     "name": "stdout",
     "output_type": "stream",
     "text": [
      "Hola mi nombre es: Luke Skywalker mi edad es: 8\n",
      "Hola mi nombre es: Jesse Quick mi edad es: 5\n",
      "Hola mi nombre es: Clark Kent mi edad es: 23\n"
     ]
    }
   ],
   "source": [
    "def presentar(primerNombre, segundoNombre, edad):\n",
    "    print(\"Hola mi nombre es:\", primerNombre, segundoNombre, \"mi edad es:\", edad)\n",
    "\n",
    "    \n",
    "presentar(\"Luke\", \"Skywalker\", 8)\n",
    "presentar(\"Jesse\", \"Quick\", 5)\n",
    "presentar(\"Clark\", \"Kent\", 23)"
   ]
  },
  {
   "cell_type": "markdown",
   "metadata": {},
   "source": [
    "## Paso De Parametros Por Palabra Clave (Nombre Del Parametro)\n",
    "\n",
    "los valores pasados a los parametros son predecidos por el nombre del paramtero al que se le va a pasar el valor, seguido por el signo de =."
   ]
  },
  {
   "cell_type": "code",
   "execution_count": 4,
   "metadata": {},
   "outputs": [
    {
     "name": "stdout",
     "output_type": "stream",
     "text": [
      "Hola mi nombre es: James Bond\n",
      "Hola mi nombre es: James Bond\n",
      "Hola mi nombre es: Luke Skywalker\n"
     ]
    }
   ],
   "source": [
    "def presentar(primerNombre, segundoNombre):\n",
    "    print(\"Hola mi nombre es:\", primerNombre, segundoNombre)\n",
    "\n",
    "    \n",
    "presentar(primerNombre = \"James\", segundoNombre = \"Bond\")\n",
    "presentar(\"James\", \"Bond\")\n",
    "presentar(segundoNombre = \"Skywalker\", primerNombre = \"Luke\")\n"
   ]
  },
  {
   "cell_type": "code",
   "execution_count": 9,
   "metadata": {},
   "outputs": [
    {
     "name": "stdout",
     "output_type": "stream",
     "text": [
      "Hola, mi nombre es: Jesus Escarpita\n",
      "Hola, mi nombre es: Pedro González\n"
     ]
    }
   ],
   "source": [
    "# Especificar un parametro con un valor por defecto\n",
    "\n",
    "def presentar(primerNombre, segundoNombre =\"González\"):\n",
    "    print(\"Hola, mi nombre es:\", primerNombre, segundoNombre)\n",
    "    \n",
    "presentar(\"Jesus\", \"Escarpita\")\n",
    "presentar(\"Pedro\")"
   ]
  },
  {
   "cell_type": "markdown",
   "metadata": {},
   "source": [
    "## Alcances de las variables en funcinones"
   ]
  },
  {
   "cell_type": "code",
   "execution_count": 3,
   "metadata": {},
   "outputs": [
    {
     "ename": "NameError",
     "evalue": "name 'scopeTeste' is not defined",
     "output_type": "error",
     "traceback": [
      "\u001b[1;31m---------------------------------------------------------------------------\u001b[0m",
      "\u001b[1;31mNameError\u001b[0m                                 Traceback (most recent call last)",
      "\u001b[1;32m<ipython-input-3-d2c09424ebcb>\u001b[0m in \u001b[0;36m<module>\u001b[1;34m\u001b[0m\n\u001b[0;32m      3\u001b[0m     \u001b[0mprint\u001b[0m\u001b[1;33m(\u001b[0m\u001b[0mx\u001b[0m\u001b[1;33m)\u001b[0m\u001b[1;33m\u001b[0m\u001b[1;33m\u001b[0m\u001b[0m\n\u001b[0;32m      4\u001b[0m \u001b[1;33m\u001b[0m\u001b[0m\n\u001b[1;32m----> 5\u001b[1;33m \u001b[0mscopeTeste\u001b[0m\u001b[1;33m(\u001b[0m\u001b[1;33m)\u001b[0m\u001b[1;33m\u001b[0m\u001b[1;33m\u001b[0m\u001b[0m\n\u001b[0m",
      "\u001b[1;31mNameError\u001b[0m: name 'scopeTeste' is not defined"
     ]
    }
   ],
   "source": [
    "def scopeTest():\n",
    "    x = 123\n",
    "   \n",
    "    \n",
    "scopeTeste()\n",
    "print(x)"
   ]
  },
  {
   "cell_type": "code",
   "execution_count": 4,
   "metadata": {},
   "outputs": [
    {
     "name": "stdout",
     "output_type": "stream",
     "text": [
      "¿Conozco a la variable? 1\n",
      "1\n"
     ]
    }
   ],
   "source": [
    "def miFuncion():\n",
    "    print(\"¿Conozco a la variable?\", var)\n",
    "\n",
    "var = 1\n",
    "miFuncion()\n",
    "print(var)\n"
   ]
  },
  {
   "cell_type": "code",
   "execution_count": 9,
   "metadata": {},
   "outputs": [
    {
     "name": "stdout",
     "output_type": "stream",
     "text": [
      "¿Conozco a la variable? 2\n",
      "1\n"
     ]
    }
   ],
   "source": [
    "def miFuncion():\n",
    "    var = 2\n",
    "    print(\"¿Conozco a la variable?\", var)\n",
    "\n",
    "var = 1\n",
    "miFuncion()\n",
    "print(var)"
   ]
  },
  {
   "cell_type": "code",
   "execution_count": 10,
   "metadata": {},
   "outputs": [
    {
     "name": "stdout",
     "output_type": "stream",
     "text": [
      "¿Conozco a la variable? 2\n",
      "2\n"
     ]
    }
   ],
   "source": [
    "def miFuncion():\n",
    "    global var\n",
    "    var = 2\n",
    "    print(\"¿Conozco a aquella variable?\", var)\n",
    "\n",
    "var = 1\n",
    "miFuncion()\n",
    "print(var)"
   ]
  },
  {
   "cell_type": "code",
   "execution_count": 16,
   "metadata": {},
   "outputs": [
    {
     "name": "stdout",
     "output_type": "stream",
     "text": [
      "Yo obtuve 1\n",
      "Yo ahora tengo 2\n",
      "1\n"
     ]
    }
   ],
   "source": [
    "def miFuncion(n):\n",
    "    print(\"Yo obtuve\", n)\n",
    "    n += 1\n",
    "    print(\"Yo ahora tengo\", n)\n",
    "\n",
    "var = 1\n",
    "miFuncion(var)\n",
    "print(var)\n"
   ]
  },
  {
   "cell_type": "code",
   "execution_count": 17,
   "metadata": {},
   "outputs": [
    {
     "name": "stdout",
     "output_type": "stream",
     "text": [
      "28.680111097693512\n"
     ]
    }
   ],
   "source": [
    "def imc(peso, altura):\n",
    "    if altura < 1.0 or altura > 2.5 or peso < 20 or peso > 200:\n",
    "        return None\n",
    "        \n",
    "    \n",
    "    return peso / altura **2\n",
    "\n",
    "print(imc(95,1.82))"
   ]
  },
  {
   "cell_type": "code",
   "execution_count": 1,
   "metadata": {},
   "outputs": [
    {
     "name": "stdout",
     "output_type": "stream",
     "text": [
      "(1, 2, 4, 8)\n",
      "(1.0, 0.5, 0.25, 0.125)\n"
     ]
    }
   ],
   "source": [
    "\"\"\"\n",
    "Lo primero que distingue una lista de una tupla es la sintaxis empleada para \n",
    "crearlas. Las tuplas utilizan paréntesis, mientras que las listas usan corchetes\n",
    "aunque también es posible crear una tupla tan solo \n",
    "separando los valores por comas.\n",
    "\"\"\"\n",
    "\n",
    "tupla1 = (1, 2, 4, 8)\n",
    "tupla2 = 1., .5, .25, .125\n",
    "print(tupla1)\n",
    "print(tupla2)"
   ]
  },
  {
   "cell_type": "code",
   "execution_count": 3,
   "metadata": {},
   "outputs": [
    {
     "name": "stdout",
     "output_type": "stream",
     "text": [
      "()\n"
     ]
    }
   ],
   "source": [
    "tuplaVacia = ()\n",
    "print(tuplaVacia)"
   ]
  },
  {
   "cell_type": "code",
   "execution_count": null,
   "metadata": {},
   "outputs": [],
   "source": [
    "tuplaUnElemento1 = (1, )\n",
    "tuplaUnElemento2 = 1., \n"
   ]
  },
  {
   "cell_type": "code",
   "execution_count": 8,
   "metadata": {},
   "outputs": [
    {
     "name": "stdout",
     "output_type": "stream",
     "text": [
      "1\n",
      "1000\n",
      "(10, 100, 1000)\n",
      "(1, 10)\n",
      "1\n",
      "10\n",
      "100\n",
      "1000\n"
     ]
    }
   ],
   "source": [
    "miTupla = (1, 10, 100, 1000)\n",
    "\n",
    "print(miTupla[0])\n",
    "print(miTupla[-1])\n",
    "print(miTupla[1:])\n",
    "print(miTupla[:-2])\n",
    "\n",
    "for elem in miTupla:\n",
    "    print(elem)"
   ]
  },
  {
   "cell_type": "code",
   "execution_count": 1,
   "metadata": {},
   "outputs": [
    {
     "ename": "AttributeError",
     "evalue": "'tuple' object has no attribute 'append'",
     "output_type": "error",
     "traceback": [
      "\u001b[1;31m---------------------------------------------------------------------------\u001b[0m",
      "\u001b[1;31mAttributeError\u001b[0m                            Traceback (most recent call last)",
      "\u001b[1;32m<ipython-input-1-8fc9bb1e6035>\u001b[0m in \u001b[0;36m<module>\u001b[1;34m\u001b[0m\n\u001b[0;32m      1\u001b[0m \u001b[0mmiTupla\u001b[0m \u001b[1;33m=\u001b[0m\u001b[1;33m(\u001b[0m\u001b[1;36m1\u001b[0m\u001b[1;33m,\u001b[0m \u001b[1;36m10\u001b[0m\u001b[1;33m,\u001b[0m \u001b[1;36m100\u001b[0m\u001b[1;33m,\u001b[0m \u001b[1;36m1000\u001b[0m\u001b[1;33m)\u001b[0m\u001b[1;33m\u001b[0m\u001b[1;33m\u001b[0m\u001b[0m\n\u001b[0;32m      2\u001b[0m \u001b[1;33m\u001b[0m\u001b[0m\n\u001b[1;32m----> 3\u001b[1;33m \u001b[0mmiTupla\u001b[0m\u001b[1;33m.\u001b[0m\u001b[0mappend\u001b[0m\u001b[1;33m(\u001b[0m\u001b[1;36m10000\u001b[0m\u001b[1;33m)\u001b[0m\u001b[1;33m\u001b[0m\u001b[1;33m\u001b[0m\u001b[0m\n\u001b[0m\u001b[0;32m      4\u001b[0m \u001b[1;33m\u001b[0m\u001b[0m\n",
      "\u001b[1;31mAttributeError\u001b[0m: 'tuple' object has no attribute 'append'"
     ]
    }
   ],
   "source": [
    "miTupla =(1, 10, 100, 1000)\n",
    "\n",
    "miTupla.append(10000)\n",
    "\n"
   ]
  },
  {
   "cell_type": "code",
   "execution_count": 2,
   "metadata": {},
   "outputs": [
    {
     "ename": "TypeError",
     "evalue": "'tuple' object doesn't support item deletion",
     "output_type": "error",
     "traceback": [
      "\u001b[1;31m---------------------------------------------------------------------------\u001b[0m",
      "\u001b[1;31mTypeError\u001b[0m                                 Traceback (most recent call last)",
      "\u001b[1;32m<ipython-input-2-a53dd738f6bd>\u001b[0m in \u001b[0;36m<module>\u001b[1;34m\u001b[0m\n\u001b[0;32m      1\u001b[0m \u001b[0mmiTupla\u001b[0m \u001b[1;33m=\u001b[0m\u001b[1;33m(\u001b[0m\u001b[1;36m1\u001b[0m\u001b[1;33m,\u001b[0m \u001b[1;36m10\u001b[0m\u001b[1;33m,\u001b[0m \u001b[1;36m100\u001b[0m\u001b[1;33m,\u001b[0m \u001b[1;36m1000\u001b[0m\u001b[1;33m)\u001b[0m\u001b[1;33m\u001b[0m\u001b[1;33m\u001b[0m\u001b[0m\n\u001b[0;32m      2\u001b[0m \u001b[1;33m\u001b[0m\u001b[0m\n\u001b[1;32m----> 3\u001b[1;33m \u001b[1;32mdel\u001b[0m \u001b[0mmiTupla\u001b[0m\u001b[1;33m[\u001b[0m\u001b[1;36m0\u001b[0m\u001b[1;33m]\u001b[0m\u001b[1;33m\u001b[0m\u001b[1;33m\u001b[0m\u001b[0m\n\u001b[0m",
      "\u001b[1;31mTypeError\u001b[0m: 'tuple' object doesn't support item deletion"
     ]
    }
   ],
   "source": [
    "miTupla =(1, 10, 100, 1000)\n",
    "\n",
    "del miTupla[0]"
   ]
  },
  {
   "cell_type": "code",
   "execution_count": 9,
   "metadata": {},
   "outputs": [
    {
     "ename": "AttributeError",
     "evalue": "'tuple' object has no attribute 'append'",
     "output_type": "error",
     "traceback": [
      "\u001b[1;31m---------------------------------------------------------------------------\u001b[0m",
      "\u001b[1;31mAttributeError\u001b[0m                            Traceback (most recent call last)",
      "\u001b[1;32m<ipython-input-9-6cb7020bfd1a>\u001b[0m in \u001b[0;36m<module>\u001b[1;34m\u001b[0m\n\u001b[0;32m      1\u001b[0m \u001b[0mmiTupla\u001b[0m \u001b[1;33m=\u001b[0m \u001b[1;33m(\u001b[0m\u001b[1;36m1\u001b[0m\u001b[1;33m,\u001b[0m \u001b[1;36m10\u001b[0m\u001b[1;33m,\u001b[0m \u001b[1;36m100\u001b[0m\u001b[1;33m,\u001b[0m \u001b[1;36m1000\u001b[0m\u001b[1;33m)\u001b[0m\u001b[1;33m\u001b[0m\u001b[1;33m\u001b[0m\u001b[0m\n\u001b[0;32m      2\u001b[0m \u001b[1;33m\u001b[0m\u001b[0m\n\u001b[1;32m----> 3\u001b[1;33m \u001b[0mmiTupla\u001b[0m\u001b[1;33m.\u001b[0m\u001b[0mappend\u001b[0m\u001b[1;33m(\u001b[0m\u001b[1;36m10000\u001b[0m\u001b[1;33m)\u001b[0m\u001b[1;33m\u001b[0m\u001b[1;33m\u001b[0m\u001b[0m\n\u001b[0m\u001b[0;32m      4\u001b[0m \u001b[1;32mdel\u001b[0m \u001b[0mmiTupla\u001b[0m\u001b[1;33m[\u001b[0m\u001b[1;36m0\u001b[0m\u001b[1;33m]\u001b[0m\u001b[1;33m\u001b[0m\u001b[1;33m\u001b[0m\u001b[0m\n\u001b[0;32m      5\u001b[0m \u001b[0mmiTupla\u001b[0m\u001b[1;33m[\u001b[0m\u001b[1;36m1\u001b[0m\u001b[1;33m]\u001b[0m \u001b[1;33m=\u001b[0m \u001b[1;33m-\u001b[0m\u001b[1;36m10\u001b[0m\u001b[1;33m\u001b[0m\u001b[1;33m\u001b[0m\u001b[0m\n",
      "\u001b[1;31mAttributeError\u001b[0m: 'tuple' object has no attribute 'append'"
     ]
    }
   ],
   "source": [
    "# Las tuplas son inmutables no sepueden modificar\n",
    "miTupla = (1, 10, 100, 1000)\n",
    "\n",
    "miTupla.append(10000)\n",
    "del miTupla[0]\n",
    "miTupla[1] = -10"
   ]
  },
  {
   "cell_type": "code",
   "execution_count": 5,
   "metadata": {},
   "outputs": [
    {
     "name": "stdout",
     "output_type": "stream",
     "text": [
      "9\n",
      "(1, 10, 100, 1000, 10000)\n",
      "(1, 10, 100, 1, 10, 100, 1, 10, 100)\n",
      "True\n",
      "True\n"
     ]
    }
   ],
   "source": [
    "miTupla = (1, 10, 100)\n",
    "\n",
    "t1 = miTupla + (1000, 10000)\n",
    "t2 = miTupla * 3\n",
    "\n",
    "print(len(t2))\n",
    "print(t1)\n",
    "print(t2)\n",
    "print(10 in miTupla)\n",
    "print(-10 not in miTupla)"
   ]
  },
  {
   "cell_type": "markdown",
   "metadata": {},
   "source": [
    "### Diccionarios En Python"
   ]
  },
  {
   "cell_type": "code",
   "execution_count": 6,
   "metadata": {},
   "outputs": [
    {
     "name": "stdout",
     "output_type": "stream",
     "text": [
      "{'gato': 'chat', 'perro': 'chien', 'caballo': 'cheval'}\n",
      "{'jefe': 5551234567, 'Suzy': 22657854310}\n",
      "{}\n"
     ]
    }
   ],
   "source": [
    "## Ejemplo de un diccionario bilingue español-frances\n",
    "\n",
    "dict = {\"gato\" : \"chat\", \"perro\" : \"chien\", \"caballo\" : \"cheval\"}\n",
    "numerosTelefono = {'jefe' : 5551234567, 'Suzy' : 22657854310}\n",
    "\n",
    "permisosEstudiantes = {'captura_calif_parciales' : 'False', 'kardex' : 'True'}\n",
    "permisosDocentes = {'captura_calif_parciales' : 'True', 'kardex' : 'False'}\n",
    "permisosCoordinadores = {'captura_calif_parciales' : 'True', 'kardex' : 'True'}\n",
    "\n",
    "diccionarioVacio = {}\n",
    "\n",
    "print(dict)\n",
    "print(numerosTelefono)\n",
    "print(diccionarioVacio)"
   ]
  },
  {
   "cell_type": "code",
   "execution_count": 7,
   "metadata": {},
   "outputs": [
    {
     "name": "stdout",
     "output_type": "stream",
     "text": [
      "chat\n",
      "22657854310\n"
     ]
    }
   ],
   "source": [
    "dict = {\"gato\" : \"chat\", \"perro\" : \"chien\", \"caballo\" : \"cheval\"}\n",
    "numerosTelefono = {'jefe' : 5551234567, 'Suzy' : 22657854310}\n",
    "diccionarioVacio = {}\n",
    "\n",
    "# lo que hace es que te llama el valor de diccionario a llamar\n",
    "print(dict['gato'])\n",
    "print(numerosTelefono['Suzy'])"
   ]
  },
  {
   "cell_type": "code",
   "execution_count": 8,
   "metadata": {},
   "outputs": [
    {
     "name": "stdout",
     "output_type": "stream",
     "text": [
      "gato -> chat\n",
      "leon no está en el diccionario\n",
      "caballo -> cheval\n"
     ]
    }
   ],
   "source": [
    "dict = {\"gato\" : \"chat\", \"perro\" : \"chien\", \"caballo\" : \"cheval\"}\n",
    "\n",
    "words = ['gato', 'leon', 'caballo']\n",
    "\n",
    "for word in words:\n",
    "    if word in dict:\n",
    "        print(word, \"->\", dict[word])\n",
    "    else:\n",
    "        print(word, \"no está en el diccionario\")"
   ]
  },
  {
   "cell_type": "code",
   "execution_count": 9,
   "metadata": {},
   "outputs": [
    {
     "name": "stdout",
     "output_type": "stream",
     "text": [
      "gato -> chat\n",
      "perro -> chien\n",
      "caballo -> cheval\n"
     ]
    }
   ],
   "source": [
    "dict = {\"gato\" : \"chat\", \"perro\" : \"chien\", \"caballo\" : \"cheval\"}\n",
    "\n",
    "for key in dict.keys():\n",
    "    print(key, \"->\", dict[key])\n"
   ]
  },
  {
   "cell_type": "code",
   "execution_count": 10,
   "metadata": {},
   "outputs": [
    {
     "name": "stdout",
     "output_type": "stream",
     "text": [
      "caballo -> cheval\n",
      "gato -> chat\n",
      "perro -> chien\n"
     ]
    }
   ],
   "source": [
    "## Como ordenar las claves\n",
    "dict = {\"gato\" : \"chat\", \"perro\" : \"chien\", \"caballo\" : \"cheval\"}\n",
    "\n",
    "for key in sorted(dict.keys()):\n",
    "    print(key, \"->\", dict[key])\n",
    "\n"
   ]
  },
  {
   "cell_type": "code",
   "execution_count": null,
   "metadata": {},
   "outputs": [],
   "source": []
  },
  {
   "cell_type": "code",
   "execution_count": null,
   "metadata": {},
   "outputs": [],
   "source": []
  },
  {
   "cell_type": "code",
   "execution_count": null,
   "metadata": {},
   "outputs": [],
   "source": []
  },
  {
   "cell_type": "code",
   "execution_count": null,
   "metadata": {},
   "outputs": [],
   "source": []
  }
 ],
 "metadata": {
  "kernelspec": {
   "display_name": "Python 3",
   "language": "python",
   "name": "python3"
  },
  "language_info": {
   "codemirror_mode": {
    "name": "ipython",
    "version": 3
   },
   "file_extension": ".py",
   "mimetype": "text/x-python",
   "name": "python",
   "nbconvert_exporter": "python",
   "pygments_lexer": "ipython3",
   "version": "3.8.3"
  }
 },
 "nbformat": 4,
 "nbformat_minor": 4
}
