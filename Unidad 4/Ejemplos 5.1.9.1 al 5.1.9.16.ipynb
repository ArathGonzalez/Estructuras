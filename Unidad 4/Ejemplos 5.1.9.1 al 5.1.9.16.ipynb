{
 "cells": [
  {
   "cell_type": "markdown",
   "metadata": {},
   "source": [
    "# Métodos de cadenas\n",
    "# Metodo capitalize()"
   ]
  },
  {
   "cell_type": "code",
   "execution_count": 2,
   "metadata": {},
   "outputs": [
    {
     "name": "stdout",
     "output_type": "stream",
     "text": [
      "Abcd\n",
      "Alpha\n",
      "Alpha\n",
      " alpha\n",
      "123\n",
      "Αβγδ\n"
     ]
    }
   ],
   "source": [
    "# El metodo capitalize() hace exactamente lo que dice.\n",
    "# Crea una nueva cadena con los caracteres tomados de la cadena fuente.\n",
    "\n",
    "# Si el primer caracter dento de la cadena es una letra\n",
    "# (NOTA: el primer caracter es el elemento con indice igual a 0, no es el primer caracter visible)\n",
    "# Se convertira a mayusculas\n",
    "# Todas Las letras restantes de la cadena se convertiran a minusculas\n",
    "\n",
    "# NO OLVIDEMOS QUE:\n",
    "# La cadena original(desde la cual se invoca el metodo) no se cambia de ninguna manera\n",
    "# La inmutabilidad de una cadena debe obedecerse sin reservas.\n",
    "# La cadena modificada(en mayusculas en este caso)se devuelve como resultado;\n",
    "# Si no se usa de alguna manera(asignala a una variable o pasala a una funcion/metodo)\n",
    "# Desaparecera sin dejar rastro.\n",
    "\n",
    "# NOTA: los metodo no tienen que invocarse solo dentro de las variables.\n",
    "# Se pueden invocar directamente desde dentro de literales de cadenas.\n",
    "\n",
    "# Demostración del método capitalize()\n",
    "print('aBcD'.capitalize())\n",
    "\n",
    "print(\"Alpha\".capitalize())\n",
    "print('ALPHA'.capitalize())\n",
    "print(' Alpha'.capitalize()) #NOTA: En este la letra mayuscula seria el espacio en blanco\n",
    "print('123'.capitalize())\n",
    "print(\"αβγδ\".capitalize())"
   ]
  },
  {
   "cell_type": "markdown",
   "metadata": {},
   "source": [
    "## Metodo center()"
   ]
  },
  {
   "cell_type": "code",
   "execution_count": 18,
   "metadata": {},
   "outputs": [
    {
     "name": "stdout",
     "output_type": "stream",
     "text": [
      "[   alfa   ]\n",
      "[Beta]\n",
      "[Beta]\n",
      "[ Beta ]\n"
     ]
    }
   ],
   "source": [
    "# La variante de un parametro del metodo center()\n",
    "# Genera una copia de la cadena original, tratando de centrarla dentro,\n",
    "# De un campo de un ancho especificado.\n",
    "\n",
    "# El centrado se realiza realmente al agregar algunos espacios antes y despues de la coma\n",
    "\n",
    "# Demostración del método center()\n",
    "# Su salida sera: [  alfa   ]\n",
    "print('[' + 'alfa'.center(10) + ']')\n",
    "\n",
    "# Si la longitud del campo de destino es demasiado pequeña para ajustarse a la cadena\n",
    "# Se devuelve La Cadena Original\n",
    "print('[' + 'Beta'.center(2) + ']')\n",
    "print('[' + 'Beta'.center(4) + ']')\n",
    "print('[' + 'Beta'.center(6) + ']')\n"
   ]
  },
  {
   "cell_type": "code",
   "execution_count": 23,
   "metadata": {},
   "outputs": [
    {
     "name": "stdout",
     "output_type": "stream",
     "text": [
      "[*******gamma********]\n"
     ]
    }
   ],
   "source": [
    "# La variante de dos parametros de center() hace uso del caracter del segundo argumento\n",
    "# En lugar de un espacio\n",
    "print('[' + 'gamma'.center(20, '*') + ']')\n",
    "\n",
    "# Es por eso que la salida ahora se ve así:\n",
    "# [*******gamma********]"
   ]
  },
  {
   "cell_type": "markdown",
   "metadata": {},
   "source": [
    "## El Metodo endswitch()"
   ]
  },
  {
   "cell_type": "code",
   "execution_count": 24,
   "metadata": {},
   "outputs": [
    {
     "name": "stdout",
     "output_type": "stream",
     "text": [
      "si\n",
      "True\n",
      "False\n",
      "False\n",
      "True\n"
     ]
    }
   ],
   "source": [
    "# Este metodo comprueba si la cadena dada termina con el argumento especificado\n",
    "# Y devuelve True o False, dependiendo del resultado.\n",
    "\n",
    "# NOTA: la subcadena debe adherirse al ultimo caracter de la cadena;\n",
    "# No se puede ubicar en algun lugar cerca del final de la cadena.\n",
    "\n",
    "# El ejemplo dara como resultado si.\n",
    "\n",
    "# Demostración del método endswith()\n",
    "if \"epsilon\".endswith(\"on\"):\n",
    "    print(\"si\")\n",
    "else:\n",
    "    print(\"no\")\n",
    "    \n",
    "t = \"zeta\"\n",
    "print(t.endswith(\"a\"))\n",
    "print(t.endswith(\"A\"))\n",
    "print(t.endswith(\"et\"))\n",
    "print(t.endswith(\"eta\"))"
   ]
  },
  {
   "cell_type": "markdown",
   "metadata": {},
   "source": [
    "## El Metodo find()"
   ]
  },
  {
   "cell_type": "code",
   "execution_count": 40,
   "metadata": {},
   "outputs": [
    {
     "name": "stdout",
     "output_type": "stream",
     "text": [
      "1\n",
      "-1\n"
     ]
    }
   ],
   "source": [
    "# Este metodo es similar al metodo index(), el cual ya conocemos.\n",
    "# Busca una subcadena y devuelve el indice de la primera aparicion de esta subcadena pero:\n",
    "\n",
    "# Es mas seguro, no genera un error para un argumento que contiene una subcadena inexistente\n",
    "# (devuelve -1 en dicho caso).\n",
    "# Funciona solo con cadenas - no intentes aplicarlo a ninguna otra secuencia.\n",
    "\n",
    "# Demostración del método find()\n",
    "print(\"Eta\".find(\"ta\"))\n",
    "print(\"Eta\".find(\"mma\"))\n",
    "\n",
    "# NOTA: no se debe de emplear find() si deseas verificar si un solo caracter aparece dentro\n",
    "# De una cadena - el operador in sera significativamente mas rapido"
   ]
  },
  {
   "cell_type": "code",
   "execution_count": 28,
   "metadata": {},
   "outputs": [
    {
     "name": "stdout",
     "output_type": "stream",
     "text": [
      "1\n",
      "1\n",
      "0\n",
      "-1\n"
     ]
    }
   ],
   "source": [
    "# Otro ejemplo\n",
    "t = 'teta'\n",
    "print(t.find('eta'))\n",
    "print(t.find('et'))\n",
    "print(t.find('te'))\n",
    "print(t.find('ha'))"
   ]
  },
  {
   "cell_type": "code",
   "execution_count": 35,
   "metadata": {},
   "outputs": [
    {
     "name": "stdout",
     "output_type": "stream",
     "text": [
      "4\n"
     ]
    }
   ],
   "source": [
    "# Si deseas realizar la busqueda, no desde el principio de la cadena\n",
    "# Sino desde cualquier posision, puedes usar una variante de dos parametros\n",
    "# Del metodo finD().\n",
    "\n",
    "print('kappa'.find('a', 2))\n",
    "\n",
    "# El segundo argumento especifica el indice en el que se iniciara la busqueda.\n",
    "# De las dos letras a, solo se contara la segunda."
   ]
  },
  {
   "cell_type": "code",
   "execution_count": 36,
   "metadata": {},
   "outputs": [
    {
     "name": "stdout",
     "output_type": "stream",
     "text": [
      "15\n",
      "80\n",
      "198\n",
      "221\n",
      "238\n"
     ]
    }
   ],
   "source": [
    "# Se puede emplear el metodo find() para buscar todas las \n",
    "# Ocurrecias de las subcadena, como acontinuacion:\n",
    "\n",
    "txt = \"\"\"A variation of the ordinary lorem ipsum\n",
    "text has been used in typesetting since the 1960s \n",
    "or earlier, when it was popularized by advertisements \n",
    "for Letraset transfer sheets. It was introduced to \n",
    "the Information Age in the mid-1980s by the Aldus Corporation, \n",
    "which employed it in graphics and word-processing templates\n",
    "for its desktop publishing program PageMaker (from Wikipedia)\"\"\"\n",
    "\n",
    "fnd = txt.find('the')\n",
    "while fnd != -1:\n",
    "    print(fnd)\n",
    "    fnd = txt.find('the', fnd + 1)"
   ]
  },
  {
   "cell_type": "code",
   "execution_count": 38,
   "metadata": {},
   "outputs": [
    {
     "name": "stdout",
     "output_type": "stream",
     "text": [
      "1\n",
      "-1\n"
     ]
    }
   ],
   "source": [
    "# Existe tambien una mutacion de tres parametros del metodo find()\n",
    "# El tercer argumento apunta al primer indice que no se tendra en cuenta durante la busqueda\n",
    "# (En realiad es el limite superior de la busqueda).\n",
    "\n",
    "print('kappa'.find('a', 1, 4))\n",
    "print('kappa'.find('a', 2, 4))\n",
    "\n",
    "# El segundo argumento especifica el indice en el que se iniciara la busqueda\n",
    "# (no tiene que caber dentro de la cadena)\n",
    "\n",
    "# a no se puede encontrar dentro de los limites de busqueda dados en el segundo print().\n"
   ]
  },
  {
   "cell_type": "markdown",
   "metadata": {},
   "source": [
    "## El metodo isalnum()"
   ]
  },
  {
   "cell_type": "code",
   "execution_count": 41,
   "metadata": {},
   "outputs": [
    {
     "name": "stdout",
     "output_type": "stream",
     "text": [
      "True\n",
      "True\n",
      "True\n",
      "False\n",
      "False\n",
      "False\n"
     ]
    }
   ],
   "source": [
    "# El metodo sin parametros llamado isalnum() comprueba\n",
    "# Si la cadena contiene solo digitos o caracteres alfabeticos (letras) \n",
    "# Y devuelve True o False de acuerdo al resultado\n",
    "\n",
    "# NOTA: Cualquier elemento de cadena que no sea un digito o una letra\n",
    "# Hace que el metodo regrese False. Una cadena vacia tambien lo hace.\n",
    "\n",
    "# Demostración del método the isalnum()\n",
    "print('lambda30'.isalnum())\n",
    "print('lambda'.isalnum())\n",
    "print('30'.isalnum())\n",
    "print('@'.isalnum())\n",
    "print('lambda_30'.isalnum())\n",
    "print(''.isalnum())"
   ]
  },
  {
   "cell_type": "code",
   "execution_count": 42,
   "metadata": {},
   "outputs": [
    {
     "name": "stdout",
     "output_type": "stream",
     "text": [
      "False\n",
      "True\n",
      "True\n"
     ]
    }
   ],
   "source": [
    "# Otros ejemplos Aqui:\n",
    "t = 'Six lambdas'\n",
    "print(t.isalnum())\n",
    "\n",
    "t = 'ΑβΓδ'\n",
    "print(t.isalnum())\n",
    "\n",
    "t = '20E1'\n",
    "print(t.isalnum())\n"
   ]
  },
  {
   "cell_type": "markdown",
   "metadata": {},
   "source": [
    "## El metodo isalpha()"
   ]
  },
  {
   "cell_type": "code",
   "execution_count": 43,
   "metadata": {},
   "outputs": [
    {
     "name": "stdout",
     "output_type": "stream",
     "text": [
      "True\n",
      "False\n"
     ]
    }
   ],
   "source": [
    "# El metodo isalpha() es mas especializado, se interesa en letras solamente\n",
    "\n",
    "# Ejemplo 1: Demostración del método isapha()\n",
    "print(\"Moooo\".isalpha())\n",
    "print('Mu40'.isalpha())"
   ]
  },
  {
   "cell_type": "markdown",
   "metadata": {},
   "source": [
    "## El metodo isdigit()"
   ]
  },
  {
   "cell_type": "code",
   "execution_count": 44,
   "metadata": {},
   "outputs": [
    {
     "name": "stdout",
     "output_type": "stream",
     "text": [
      "True\n",
      "False\n"
     ]
    }
   ],
   "source": [
    "# Al contrario, el metodo isdigit() busca solo digitos\n",
    "# Cualquier otra cosa produce False como resultado.\n",
    "\n",
    "# Ejemplo 2: Demostración del método isdigit()\n",
    "    \n",
    "print('2018'.isdigit())\n",
    "print(\"Año2019\".isdigit())"
   ]
  },
  {
   "cell_type": "markdown",
   "metadata": {},
   "source": [
    "## El metodo islower()"
   ]
  },
  {
   "cell_type": "code",
   "execution_count": 45,
   "metadata": {},
   "outputs": [
    {
     "name": "stdout",
     "output_type": "stream",
     "text": [
      "False\n",
      "True\n"
     ]
    }
   ],
   "source": [
    "# El metodo islower() es una variante de isalpha()\n",
    "# Solo acepta letras minusculas.\n",
    "\n",
    "# Ejemplo 1: Demostración del método islower()\n",
    "print(\"Moooo\".islower())\n",
    "print('moooo'.islower())"
   ]
  },
  {
   "cell_type": "markdown",
   "metadata": {},
   "source": [
    "## El metodo isspace()"
   ]
  },
  {
   "cell_type": "code",
   "execution_count": 46,
   "metadata": {},
   "outputs": [
    {
     "name": "stdout",
     "output_type": "stream",
     "text": [
      "True\n",
      "True\n",
      "False\n"
     ]
    }
   ],
   "source": [
    "# El metodo isspace() identifica espacios en blanco solamente\n",
    "# No tiene en cuenta ningun otro caracter ( el resultado entonces es False).\n",
    "\n",
    "# Ejemplo 2: Demostración del método isspace()\n",
    "print(' \\n '.isspace())\n",
    "print(\" \".isspace())\n",
    "print(\"mooo mooo mooo\".isspace())"
   ]
  },
  {
   "cell_type": "markdown",
   "metadata": {},
   "source": [
    "## El metodo isupper()"
   ]
  },
  {
   "cell_type": "code",
   "execution_count": 47,
   "metadata": {},
   "outputs": [
    {
     "name": "stdout",
     "output_type": "stream",
     "text": [
      "False\n",
      "False\n",
      "True\n"
     ]
    }
   ],
   "source": [
    "# El metodo isupper() es la version en mayuscula de islower()\n",
    "# Se concentra solo en letras mayusculas\n",
    "\n",
    "# Ejemplo 3: Demostración del método isupper() \n",
    "print(\"Moooo\".isupper())\n",
    "print('moooo'.isupper())\n",
    "print('MOOOO'.isupper())"
   ]
  },
  {
   "cell_type": "markdown",
   "metadata": {},
   "source": [
    "## El metodo join()"
   ]
  },
  {
   "cell_type": "code",
   "execution_count": 49,
   "metadata": {},
   "outputs": [
    {
     "name": "stdout",
     "output_type": "stream",
     "text": [
      "omicron,pi,rho\n"
     ]
    }
   ],
   "source": [
    "# El metodo join() es algo complicado, asi que te guiaremos paso a paso:\n",
    "\n",
    "# Como su nombre lo indica, el metodo realiza una union y espera un argumento del tipo lista;\n",
    "# Se debe asegurar que todos los elementos de la lista sean cadenas: de lo contrario,\n",
    "# el metodo generara una excepcion TypeError\n",
    "\n",
    "# Todos los elementos de la lista seran unidos en una sola cadena pero..\n",
    "# ... la cadena desde la que se ha invocado el metodo sera utilizada como \n",
    "#separador, puesta entre las cademas.\n",
    "\n",
    "# La cadena recien creada se devuelve como resultado.\n",
    "\n",
    "\n",
    "# Demostración del método join()\n",
    "print(\",\".join([\"omicron\", \"pi\", \"rho\"]))\n",
    "\n",
    "\n",
    "# El metodo join() se invoca desde una cadena que continen una coma, \n",
    "# (la cadena puede ser larga o puede estar vacia).\n",
    "\n",
    "# el argumento del join es una lista que contiene tres cadenas.\n",
    "\n",
    "# El metodo devuelve una nueva cadena\n"
   ]
  },
  {
   "cell_type": "markdown",
   "metadata": {},
   "source": [
    "## El metodo lower()"
   ]
  },
  {
   "cell_type": "code",
   "execution_count": 52,
   "metadata": {
    "scrolled": true
   },
   "outputs": [
    {
     "name": "stdout",
     "output_type": "stream",
     "text": [
      "sigma=60\n",
      "jesus arath gonzalez maldonado\n"
     ]
    }
   ],
   "source": [
    "# El metodo lower() genera una copia de una cadena, reemplaza todas las letras mayusculas con,\n",
    "# Sus equivalentes en minusculas, y devuelve la cadena como resultado.\n",
    "# Nuevamente la cadena rignal permanece intacta\n",
    "\n",
    "# Si la cadena no contiene caracteres en mayusculas, el metodo devuelve la casadena original.\n",
    "# NOTA: el metodo lower() no toma ningun parametro.\n",
    "\n",
    "# Demostración del método lower()\n",
    "print(\"sIGmA=60\".lower())\n",
    "print (\"JeSUS ArATH GonZaLEz MalDoNaDO\".lower())\n"
   ]
  },
  {
   "cell_type": "markdown",
   "metadata": {},
   "source": [
    "## El metodo lstrip()"
   ]
  },
  {
   "cell_type": "code",
   "execution_count": 57,
   "metadata": {},
   "outputs": [
    {
     "name": "stdout",
     "output_type": "stream",
     "text": [
      "[tau ]\n"
     ]
    }
   ],
   "source": [
    "# El metodo sin parametros lstrip() lo que hace es que  devuelve una cadena\n",
    "# recien creada formada a partir de la original eliminando todos los espacios en blanco iniciales.\n",
    "\n",
    "\n",
    "# Demostración del método the lstrip()\n",
    "print(\"[\" + \" tau \".lstrip() + \"]\")\n"
   ]
  },
  {
   "cell_type": "code",
   "execution_count": 58,
   "metadata": {},
   "outputs": [
    {
     "name": "stdout",
     "output_type": "stream",
     "text": [
      "cisco.com\n"
     ]
    }
   ],
   "source": [
    "# El metodo con un parametro lstrip() hace lo mismo que su version sin parametros\n",
    "# Pero elimina todos los caracteres incluidos en el argumento, no solo los espacios en blanco.\n",
    "\n",
    "print(\"www.cisco.com\".lstrip(\"w.\"))\n"
   ]
  },
  {
   "cell_type": "code",
   "execution_count": 59,
   "metadata": {},
   "outputs": [
    {
     "name": "stdout",
     "output_type": "stream",
     "text": [
      "pythoninstitute.org\n"
     ]
    }
   ],
   "source": [
    "print(\"pythoninstitute.org\".lstrip(\".org\"))\n",
    "\n",
    "# NOTA: NO ELIMINO NADA YA QUE ESTE METODO SOLO ELIMINA SOLO LOS ESPACIOS EN BLANCO INICIALES U\n",
    " # CONTENIDO INICIAL:\n"
   ]
  },
  {
   "cell_type": "markdown",
   "metadata": {},
   "source": [
    "## El metodo replace()\n"
   ]
  },
  {
   "cell_type": "code",
   "execution_count": 1,
   "metadata": {},
   "outputs": [
    {
     "name": "stdout",
     "output_type": "stream",
     "text": [
      "www.pythoninstitute.org\n",
      "Thare are it!\n",
      "Apple \n"
     ]
    }
   ],
   "source": [
    "# El metodo replace() con dos parametros devuelve una copia de la cadena original\n",
    "# En la que todas las apariciones del primer argumento han sido reemplazadas por\n",
    "# El segundo agumento\n",
    "\n",
    "# Demostración del método replace()\n",
    "print(\"www.netacad.com\".replace(\"netacad.com\", \"pythoninstitute.org\"))\n",
    "print(\"This is it!\".replace(\"is\", \"are\"))\n",
    "print(\"Apple juice\".replace(\"juice\", \"\"))\n",
    "\n",
    "# El segundo argumento puede ser una cadena vacia (lo que hace es eliminar en lugar de reemplazar),\n",
    "# Pero el primer argumento no puede estar vacio."
   ]
  },
  {
   "cell_type": "code",
   "execution_count": 6,
   "metadata": {},
   "outputs": [
    {
     "name": "stdout",
     "output_type": "stream",
     "text": [
      "Thare is it!\n",
      "Thare are it!\n"
     ]
    }
   ],
   "source": [
    "# La variante del metodo replace() con tres parametros\n",
    "# Emplea un tercer argumento(un numero) para limitar el numero de remplazos\n",
    "print(\"This is it!\".replace(\"is\", \"are\", 1))\n",
    "print(\"This is it!\".replace(\"is\", \"are\", 2))"
   ]
  },
  {
   "cell_type": "markdown",
   "metadata": {},
   "source": [
    "# El metodo rfind()"
   ]
  },
  {
   "cell_type": "code",
   "execution_count": 7,
   "metadata": {},
   "outputs": [
    {
     "name": "stdout",
     "output_type": "stream",
     "text": [
      "8\n",
      "-1\n",
      "4\n"
     ]
    }
   ],
   "source": [
    "# Los metodos de uno, dos y tres parametros denominados rfind() hacen casi lo mismo que\n",
    "# Sus contrapartes (Las que carencen del prefijo r), pero comienzan su busqueda\n",
    "# Desde el final de la cadena, no el principio (de ahi el prefijo r, de reversa)\n",
    "\n",
    "# Demostración del método rfind()\n",
    "print(\"tau tau tau\".rfind(\"ta\"))\n",
    "print(\"tau tau tau\".rfind(\"ta\", 9))\n",
    "print(\"tau tau tau\".rfind(\"ta\", 3, 9))\n"
   ]
  },
  {
   "cell_type": "markdown",
   "metadata": {},
   "source": [
    "## El metodo rstrip()"
   ]
  },
  {
   "cell_type": "code",
   "execution_count": 12,
   "metadata": {},
   "outputs": [
    {
     "name": "stdout",
     "output_type": "stream",
     "text": [
      "[ upsilon]\n",
      "cis\n"
     ]
    }
   ],
   "source": [
    "# Dos variantes del metodo rstrip() hacen casi lo mismo que el metodo lstrip\n",
    "# Pero no afecta el lado opuesto\n",
    "\n",
    "# Demostración del método rstrip()\n",
    "print(\"[\" + \" upsilon \".rstrip() + \"]\")\n",
    "print(\"cisco.com\".rstrip(\".com\"))"
   ]
  },
  {
   "cell_type": "markdown",
   "metadata": {},
   "source": [
    "## El metodo split()"
   ]
  },
  {
   "cell_type": "code",
   "execution_count": 15,
   "metadata": {},
   "outputs": [
    {
     "name": "stdout",
     "output_type": "stream",
     "text": [
      "['phi', 'chi', 'psi']\n"
     ]
    }
   ],
   "source": [
    "# EL metodo split() divie la cadena y crea una lista de todas las subcadenas detectadas.\n",
    "\n",
    "# El metodo asume que las subcadenas estan delimitadas por espacios en blanco\n",
    "# Los espacios no participan en la operacion y no se copian en la lista resultante.\n",
    "\n",
    "# Si la cadena esta vacia, la lista resultando tambien esta vacia.\n",
    "\n",
    "# Demostración del método split()\n",
    "print(\"phi       chi\\npsi\".split())\n"
   ]
  },
  {
   "cell_type": "markdown",
   "metadata": {},
   "source": [
    "## El metodo startswitch()"
   ]
  },
  {
   "cell_type": "code",
   "execution_count": 29,
   "metadata": {},
   "outputs": [
    {
     "name": "stdout",
     "output_type": "stream",
     "text": [
      "False\n",
      "True\n",
      "\n"
     ]
    }
   ],
   "source": [
    "# Este metodo es un espejo del metodo endswitch() - comprueba si una cadena dada\n",
    "# Comienza con la subcadena especificada.\n",
    "\n",
    "# Demostración del método startswith()\n",
    "print(\"omega\".startswith(\"meg\"))\n",
    "print(\"omega\".startswith(\"om\"))\n"
   ]
  },
  {
   "cell_type": "markdown",
   "metadata": {},
   "source": [
    "# El metodo strip()"
   ]
  },
  {
   "cell_type": "code",
   "execution_count": 35,
   "metadata": {},
   "outputs": [
    {
     "name": "stdout",
     "output_type": "stream",
     "text": [
      "\n",
      "[aleph]\n",
      "[FIFI]\n",
      "[   FIFI]\n",
      "[FIFI   ]\n",
      "[   FIFI]\n",
      "[FIFI   ]\n",
      "[   FIFI]\n",
      "[FIFI   ]\n",
      "[   FIFI]\n",
      "[FIFI   ]\n",
      "[   FIFI]\n",
      "[FIFI   ]\n"
     ]
    }
   ],
   "source": [
    "# El metodo strip() combina los efectos causados por rstrip() y lstrip()\n",
    "# Crea una nueva cadena que carece de todos los espacios en blanco iniciales y finales\n",
    "\n",
    "print()\n",
    "\n",
    "# Demostración del método strip() \n",
    "print(\"[\" + \"   aleph   \".strip() + \"]\")\n",
    "\n",
    "print(\"[\" + \"   FIFI   \".strip() + \"]\")\n",
    "\n",
    "print(\"[\" + \"   FIFI   \".rstrip() + \"]\")\n",
    "\n",
    "print(\"[\" + \"   FIFI   \".lstrip() + \"]\")\n",
    "\n",
    "print(\"[\" + \"   FIFI   \".rstrip() + \"]\")\n",
    "\n",
    "print(\"[\" + \"   FIFI   \".lstrip() + \"]\")\n",
    "\n",
    "print(\"[\" + \"   FIFI   \".rstrip() + \"]\")\n",
    "\n",
    "print(\"[\" + \"   FIFI   \".lstrip() + \"]\")\n",
    "\n",
    "print(\"[\" + \"   FIFI   \".rstrip() + \"]\")\n",
    "\n",
    "print(\"[\" + \"   FIFI   \".lstrip() + \"]\")\n",
    "\n",
    "print(\"[\" + \"   FIFI   \".rstrip() + \"]\")\n",
    "\n",
    "print(\"[\" + \"   FIFI   \".lstrip() + \"]\")"
   ]
  },
  {
   "cell_type": "markdown",
   "metadata": {},
   "source": [
    "## El metodo swapcase()"
   ]
  },
  {
   "cell_type": "code",
   "execution_count": 36,
   "metadata": {},
   "outputs": [
    {
     "name": "stdout",
     "output_type": "stream",
     "text": [
      "yO SÉ QUE NO SÉ NADA.\n"
     ]
    }
   ],
   "source": [
    "# El motodo swaspace() cra una nueva cadena intercambiando todas las letras por mayusculas o\n",
    "# minusculas dentro de la cadena original: los caracteres en mayusculas se convierten minusculas\n",
    "# Y viceversa.\n",
    "# Todos los demas caracteres permanecen intactos.\n",
    "\n",
    "# Demostración del método swapcase()\n",
    "print(\"Yo sé que no sé nada.\".swapcase())\n",
    "\n"
   ]
  },
  {
   "cell_type": "markdown",
   "metadata": {},
   "source": [
    "## El metodo title()"
   ]
  },
  {
   "cell_type": "code",
   "execution_count": 37,
   "metadata": {},
   "outputs": [
    {
     "name": "stdout",
     "output_type": "stream",
     "text": [
      "Yo Sé Que No Sé Nada. Parte 1.\n"
     ]
    }
   ],
   "source": [
    "# El metodo title() realiza una funcion algo similar, cambia la primera letra de cada palabra\n",
    "# A mayusculas, convirtiendo todas las demas a minusculas\n",
    "\n",
    "# Demostración del método title()\n",
    "print(\"Yo sé que no sé nada. Parte 1.\".title())"
   ]
  },
  {
   "cell_type": "markdown",
   "metadata": {},
   "source": [
    "## El metodo upper()"
   ]
  },
  {
   "cell_type": "code",
   "execution_count": 38,
   "metadata": {},
   "outputs": [
    {
     "name": "stdout",
     "output_type": "stream",
     "text": [
      "YO SÉ QUE NO SÉ NADA. PARTE 2.\n"
     ]
    }
   ],
   "source": [
    "# El metodo upper() hace una copia de la cadena de origen, reemplaza todas las letras minusculas\n",
    "# Con sus equivalentes en mayusculas, y devuelve la cadena como resultado\n",
    "\n",
    "# Demostración del método upper()\n",
    "print(\"Yo sé que no sé nada. Parte 2.\".upper())"
   ]
  },
  {
   "cell_type": "code",
   "execution_count": null,
   "metadata": {},
   "outputs": [],
   "source": []
  }
 ],
 "metadata": {
  "kernelspec": {
   "display_name": "Python 3",
   "language": "python",
   "name": "python3"
  },
  "language_info": {
   "codemirror_mode": {
    "name": "ipython",
    "version": 3
   },
   "file_extension": ".py",
   "mimetype": "text/x-python",
   "name": "python",
   "nbconvert_exporter": "python",
   "pygments_lexer": "ipython3",
   "version": "3.8.3"
  }
 },
 "nbformat": 4,
 "nbformat_minor": 4
}
