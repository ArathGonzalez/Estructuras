{
 "cells": [
  {
   "cell_type": "markdown",
   "metadata": {},
   "source": [
    "## La naturaleza de las cadenas en Python\n",
    "\n",
    "## CADENAS BREVE RESEÑA"
   ]
  },
  {
   "cell_type": "code",
   "execution_count": 7,
   "metadata": {},
   "outputs": [
    {
     "name": "stdout",
     "output_type": "stream",
     "text": [
      "3\n",
      "0\n",
      "3\n"
     ]
    }
   ],
   "source": [
    "#La a función len() empleada por cadenas devuelve el número de caracteres que contiene el argumento.\n",
    "\n",
    "# Ejemplo 1\n",
    "\n",
    "#La salida del codigo sera 3\n",
    "\n",
    "palabra = 'por'\n",
    "print(len(palabra))\n",
    "\n",
    "\n",
    "# Ejemplo 2\n",
    "\n",
    "#Cualquier cadena puede estar vacía. Si es el caso, \n",
    "#su longitud sera 0.\n",
    "\n",
    "vacio = ''\n",
    "print(len(vacio))\n",
    "\n",
    "\n",
    "# Ejemplo 3\n",
    "\n",
    "#No hay que olvidar que la diagnola invertida (\\) utilizada como un caracter escape\n",
    "#No esta incluida en la longitud de la cadena\n",
    "#Su longitud dacomo resultado un 3\n",
    "\n",
    "yo_soy = 'I\\'m'\n",
    "print(len(yo_soy))\n"
   ]
  },
  {
   "cell_type": "markdown",
   "metadata": {},
   "source": [
    "## Cadenas Multilinea"
   ]
  },
  {
   "cell_type": "code",
   "execution_count": 20,
   "metadata": {},
   "outputs": [
    {
     "name": "stdout",
     "output_type": "stream",
     "text": [
      "17\n",
      "17\n"
     ]
    }
   ],
   "source": [
    "# Afortunadamente, para este tipo de cadenas,\n",
    "# Python ofrece una sintaxis simple, conveniente y separada.\n",
    "\n",
    "'''\n",
    "Como podemos observar, la cadena comienza con tres apostrofes, no uno\n",
    "El mismo apoastrofe se usa para terminar la cadena multiple.\n",
    "'''\n",
    "# la salida del codgio sera 17\n",
    "'''\n",
    "Cuenta los los caracteres con cuidado si lo pudiste notar, \n",
    "El caracter que falta es simplemente invisible: \n",
    "es un espacio en blanco. Se encuentra entre las dos líneas de texto.\n",
    "Se denota como: \\n.\n",
    "'''\n",
    "# Lo recuerdad? es un caracter especial utilizado para forzar un avance de linea.\n",
    "# No puedes verlo pero cuenta.\n",
    "\n",
    "multiLinea = '''Linea #1\n",
    "Linea #2'''\n",
    "\n",
    "print(len(multiLinea))\n",
    "\n",
    "# Las cadenas multilinea pueden ser delimitads tambien por comillas triples \n",
    "\n",
    "multiLinea = \"\"\"Linea #1\n",
    "Linea #2\"\"\"\n",
    "\n",
    "print(len(multiLinea))"
   ]
  },
  {
   "cell_type": "markdown",
   "metadata": {},
   "source": [
    "## Operaciones Con Cadenas"
   ]
  },
  {
   "cell_type": "code",
   "execution_count": 23,
   "metadata": {
    "scrolled": true
   },
   "outputs": [
    {
     "name": "stdout",
     "output_type": "stream",
     "text": [
      "ab\n",
      "ba\n",
      "aaaaa\n",
      "bbbb\n"
     ]
    }
   ],
   "source": [
    "# Al igual que otro tipo de datos, las cadeans tienen su propio conjunto de operaciones permitidas\n",
    "# Aunque son bastante limitadas en comparacion con los numeros.\n",
    "# En gneral las cadenas pueden ser: (Concatenadas Y replicadas).\n",
    "\n",
    "str1 = 'a'\n",
    "str2 = 'b'\n",
    "\n",
    "'''\n",
    "El operador + es empleado en dos o más cadenas y produce una nueva cadena que contiene todos los\n",
    "caracteres de sus argumentos \n",
    "NOTA: El orden es relevante aquí, en contraste con su versión numérica, la cual es conmutativa.\n",
    "'''\n",
    "print(str1 + str2)\n",
    "print(str2 + str1)\n",
    "'''\n",
    "El operador *  necesita una cadena y un numero como argumentos, en este caso el orden no importa\n",
    "El resultado rea el mismo\n",
    "'''\n",
    "print(5 * 'a')\n",
    "print('b' * 4)\n",
    "\n",
    "#NOTA: Los atajos de los opreadores anteriores tambien pueden ser aplicados para las cadenas\n",
    "#+= y *=.\n"
   ]
  },
  {
   "cell_type": "markdown",
   "metadata": {},
   "source": [
    "## Operaciones con cadenas: ord()"
   ]
  },
  {
   "cell_type": "code",
   "execution_count": 10,
   "metadata": {},
   "outputs": [
    {
     "name": "stdout",
     "output_type": "stream",
     "text": [
      "97\n",
      "32\n",
      "945\n",
      "281\n"
     ]
    }
   ],
   "source": [
    "# Demostrando la función ord ()\n",
    "\n",
    "#Si deseas saber el valor del punto de código ASCII/UNICODE de un caracter específico,\n",
    "#puedes usar la función ord()\n",
    "\n",
    "#La función necesita una cadena de un caracter como argumento\n",
    "#Incuplir este requisito provocara una excepcion TypeError\n",
    "\n",
    "ch1 = 'a' \n",
    "ch2 = ' ' # espacio\n",
    "\n",
    "print(ord(ch1))\n",
    "print(ord(ch2))\n",
    "\n",
    "#La salida Del fragmento de codigo es = 97 y 32\n",
    "\n",
    "\n",
    "ch1 = 'α' \n",
    "ch2 = 'ę' # espacio\n",
    "\n",
    "#La salida Del fragmento de codigo es = 945 Y 281\n",
    "\n",
    "print(ord(ch1))\n",
    "print(ord(ch2))"
   ]
  },
  {
   "cell_type": "markdown",
   "metadata": {},
   "source": [
    "## Operaciones Con Cadenas chr()"
   ]
  },
  {
   "cell_type": "code",
   "execution_count": 20,
   "metadata": {
    "scrolled": true
   },
   "outputs": [
    {
     "name": "stdout",
     "output_type": "stream",
     "text": [
      "a\n",
      "α\n"
     ]
    }
   ],
   "source": [
    "# Demostrando la función chr()\n",
    "\n",
    "# NOTA: Si se conoce el punto de codigo (numero) y quieres obtener el caracter correspondiente\n",
    "# Se puede utilizar la funcion llamada chr().\n",
    "\n",
    "print(chr(97))\n",
    "print(chr(945))\n",
    "\n",
    "# La salida es la siguiente: a Y α\n",
    "\n",
    "# La función toma un punto de código y devuelve su carácter.\n",
    "# NOTA: Si invocamos un argumento invalido, ya sea un punto de codigo negativo o invalido \n",
    "# Este nos provocara las excepciones ValuesError o TypeError."
   ]
  },
  {
   "cell_type": "code",
   "execution_count": 33,
   "metadata": {},
   "outputs": [
    {
     "name": "stdout",
     "output_type": "stream",
     "text": [
      "53\n"
     ]
    }
   ],
   "source": [
    " print(ord(\"5\"))\n"
   ]
  },
  {
   "cell_type": "code",
   "execution_count": 42,
   "metadata": {},
   "outputs": [
    {
     "name": "stdout",
     "output_type": "stream",
     "text": [
      "5\n"
     ]
    }
   ],
   "source": [
    "print(chr(53))"
   ]
  },
  {
   "cell_type": "markdown",
   "metadata": {},
   "source": [
    "## Cadenas Como Secuencias: Idexación"
   ]
  },
  {
   "cell_type": "code",
   "execution_count": 51,
   "metadata": {},
   "outputs": [
    {
     "name": "stdout",
     "output_type": "stream",
     "text": [
      "s i l l y   w a l k s \n",
      "s s k l a w   y l l i \n"
     ]
    }
   ],
   "source": [
    "# Indexando cadenas\n",
    "\n",
    "# Ya comentamos que las cadenas de python son secuencias.\n",
    "# NOTA: Las cadenas no son listas, pero pueden ser tratadas como tal en muchos casos\n",
    "\n",
    "# Por ejemplo, si se deseara acceder a cualquera de los caracteres de una cadena\n",
    "# Se puede hacer utilizando la indexacion.\n",
    "\n",
    "exampleString = 'silly walks'\n",
    "\n",
    "for ix in range(len(exampleString)):\n",
    "    print(exampleString[ix], end=' ')\n",
    "\n",
    "print()\n",
    "\n",
    "\n",
    "# NOTA: Los indices negativos tambien se comportan como se espera.\n",
    "exampleString = 'silly walks'\n",
    "\n",
    "for ix in range(len(exampleString)):\n",
    "    print(exampleString[-ix], end=' ')\n",
    "\n",
    "print()"
   ]
  },
  {
   "cell_type": "code",
   "execution_count": 49,
   "metadata": {},
   "outputs": [
    {
     "name": "stdout",
     "output_type": "stream",
     "text": [
      "s i l l y   w a l k s \n"
     ]
    }
   ],
   "source": [
    "# Iterando a través de una cadena\n",
    "\n",
    "# Iterar a través de las cadenas tambien funciona.\n",
    "\n",
    "exampleString = 'silly walks'\n",
    "\n",
    "for ch in exampleString:\n",
    "    print(ch, end=' ')\n",
    "\n",
    "print()\n",
    "\n",
    "# La salida sera la misma que el ejemplo anterior"
   ]
  },
  {
   "cell_type": "markdown",
   "metadata": {},
   "source": [
    "## Rodajas O Rebanadas"
   ]
  },
  {
   "cell_type": "code",
   "execution_count": 55,
   "metadata": {},
   "outputs": [
    {
     "name": "stdout",
     "output_type": "stream",
     "text": [
      "bd\n",
      "efg\n",
      "abd\n",
      "e\n",
      "e\n",
      "adf\n",
      "beg\n"
     ]
    }
   ],
   "source": [
    "# Todo lo que se sabe hacerca de las rodajas o rebanadas es utilizable.\n",
    "\n",
    "# Rodajas o rebanadas\n",
    "\n",
    "#Estos son algunos ejemplos que muestran como es que funcionas las rodajas en el mundo de las candenas\n",
    "\n",
    "# NOTA: No se esta repasando nada nuevo pero lo importantes es saber que se realiza y entender las\n",
    "# Lienas del codigo\n",
    "\n",
    "\n",
    "alpha = \"abdefg\"\n",
    "\n",
    "print(alpha[1:3])\n",
    "print(alpha[3:])\n",
    "print(alpha[:3])\n",
    "print(alpha[3:-2])\n",
    "print(alpha[-3:4])\n",
    "print(alpha[::2])\n",
    "print(alpha[1::2])"
   ]
  },
  {
   "cell_type": "markdown",
   "metadata": {},
   "source": [
    "## Los Operadores in Y not in"
   ]
  },
  {
   "cell_type": "code",
   "execution_count": 57,
   "metadata": {},
   "outputs": [
    {
     "name": "stdout",
     "output_type": "stream",
     "text": [
      "False\n",
      "True\n",
      "True\n",
      "False\n",
      "True\n"
     ]
    }
   ],
   "source": [
    "alpfabeto = \"abcdefghijklmnopqrstuvwxyz\"\n",
    "\n",
    "# El Operador in no deberia sorprnederte cuandose aplica a cadenas.\n",
    "# Simplemente lo que haces es que compruea si el argumento izquierdo (una cadena)\n",
    "# Se puede encontrar en cualquier lugar dentro del argumetno derecho (otra cadena)    \n",
    "\n",
    "# NOTA: Es resultado es simplemente true = verdadero Y false = falso \n",
    "\n",
    "print(\"f\" not in alpfabeto)\n",
    "print(\"F\" not in alpfabeto)\n",
    "print(\"1\" not in alpfabeto)\n",
    "print(\"ghi\" not in alpfabeto)\n",
    "print(\"Xyz\" not in alpfabeto)"
   ]
  },
  {
   "cell_type": "markdown",
   "metadata": {},
   "source": [
    "## Las Cadenas De Python Son Inmutables"
   ]
  },
  {
   "cell_type": "code",
   "execution_count": 73,
   "metadata": {},
   "outputs": [
    {
     "ename": "TypeError",
     "evalue": "'str' object doesn't support item deletion",
     "output_type": "error",
     "traceback": [
      "\u001b[1;31m---------------------------------------------------------------------------\u001b[0m",
      "\u001b[1;31mTypeError\u001b[0m                                 Traceback (most recent call last)",
      "\u001b[1;32m<ipython-input-73-4990c3eaa86e>\u001b[0m in \u001b[0;36m<module>\u001b[1;34m\u001b[0m\n\u001b[0;32m      8\u001b[0m \u001b[0malfabeto\u001b[0m \u001b[1;33m=\u001b[0m \u001b[1;34m\"abcdefghijklmnopqrstuvwxyz\"\u001b[0m\u001b[1;33m\u001b[0m\u001b[1;33m\u001b[0m\u001b[0m\n\u001b[0;32m      9\u001b[0m \u001b[1;33m\u001b[0m\u001b[0m\n\u001b[1;32m---> 10\u001b[1;33m \u001b[1;32mdel\u001b[0m \u001b[0malfabeto\u001b[0m\u001b[1;33m[\u001b[0m\u001b[1;36m0\u001b[0m\u001b[1;33m]\u001b[0m\u001b[1;33m\u001b[0m\u001b[1;33m\u001b[0m\u001b[0m\n\u001b[0m\u001b[0;32m     11\u001b[0m \u001b[1;33m\u001b[0m\u001b[0m\n\u001b[0;32m     12\u001b[0m \u001b[1;31m# Lo unico que podemos hacer con el del y una cadena es eliminar la cadena como un todo\u001b[0m\u001b[1;33m\u001b[0m\u001b[1;33m\u001b[0m\u001b[1;33m\u001b[0m\u001b[0m\n",
      "\u001b[1;31mTypeError\u001b[0m: 'str' object doesn't support item deletion"
     ]
    }
   ],
   "source": [
    "alfabeto = \"abcdefghijklmnopqrstuvwxyz\"\n",
    "\n",
    "# Habiamos comentado que las cadenas de python son inmutables.\n",
    "# Significa que la samilitud entre las cadenas y listas es limitada.\n",
    "# No todo lo que se puede hacer en una lista se puede hacer en una cadena\n",
    "\n",
    "# pon el código de prueba aquí\n",
    "alfabeto = \"abcdefghijklmnopqrstuvwxyz\"\n",
    "\n",
    "del alfabeto[0]\n",
    "\n",
    "# Lo unico que podemos hacer con el del y una cadena es eliminar la cadena como un todo\n"
   ]
  },
  {
   "cell_type": "code",
   "execution_count": 67,
   "metadata": {},
   "outputs": [
    {
     "ename": "AttributeError",
     "evalue": "'str' object has no attribute 'append'",
     "output_type": "error",
     "traceback": [
      "\u001b[1;31m---------------------------------------------------------------------------\u001b[0m",
      "\u001b[1;31mAttributeError\u001b[0m                            Traceback (most recent call last)",
      "\u001b[1;32m<ipython-input-67-3aa7106b1e87>\u001b[0m in \u001b[0;36m<module>\u001b[1;34m\u001b[0m\n\u001b[0;32m      4\u001b[0m \u001b[0malfabeto\u001b[0m \u001b[1;33m=\u001b[0m \u001b[1;34m\"abcdefghijklmnopqrstuvwxyz\"\u001b[0m\u001b[1;33m\u001b[0m\u001b[1;33m\u001b[0m\u001b[0m\n\u001b[0;32m      5\u001b[0m \u001b[1;33m\u001b[0m\u001b[0m\n\u001b[1;32m----> 6\u001b[1;33m \u001b[0malfabeto\u001b[0m\u001b[1;33m.\u001b[0m\u001b[0mappend\u001b[0m\u001b[1;33m(\u001b[0m\u001b[1;34m\"A\"\u001b[0m\u001b[1;33m)\u001b[0m\u001b[1;33m\u001b[0m\u001b[1;33m\u001b[0m\u001b[0m\n\u001b[0m\u001b[0;32m      7\u001b[0m \u001b[1;33m\u001b[0m\u001b[0m\n\u001b[0;32m      8\u001b[0m \u001b[0mprint\u001b[0m \u001b[1;33m(\u001b[0m\u001b[0malfabeto\u001b[0m\u001b[1;33m)\u001b[0m\u001b[1;33m\u001b[0m\u001b[1;33m\u001b[0m\u001b[0m\n",
      "\u001b[1;31mAttributeError\u001b[0m: 'str' object has no attribute 'append'"
     ]
    }
   ],
   "source": [
    "# Las cadenas de Python tampoco tienen el metodo append()\n",
    "# No s epueden expander de ninguna manera.\n",
    "\n",
    "alfabeto = \"abcdefghijklmnopqrstuvwxyz\"\n",
    "\n",
    "alfabeto.append(\"A\")"
   ]
  },
  {
   "cell_type": "code",
   "execution_count": 69,
   "metadata": {},
   "outputs": [
    {
     "ename": "AttributeError",
     "evalue": "'str' object has no attribute 'insert'",
     "output_type": "error",
     "traceback": [
      "\u001b[1;31m---------------------------------------------------------------------------\u001b[0m",
      "\u001b[1;31mAttributeError\u001b[0m                            Traceback (most recent call last)",
      "\u001b[1;32m<ipython-input-69-a7048f971cfd>\u001b[0m in \u001b[0;36m<module>\u001b[1;34m\u001b[0m\n\u001b[0;32m      2\u001b[0m \u001b[0malfabeto\u001b[0m \u001b[1;33m=\u001b[0m \u001b[1;34m\"abcdefghijklmnopqrstuvwxyz\"\u001b[0m\u001b[1;33m\u001b[0m\u001b[1;33m\u001b[0m\u001b[0m\n\u001b[0;32m      3\u001b[0m \u001b[1;33m\u001b[0m\u001b[0m\n\u001b[1;32m----> 4\u001b[1;33m \u001b[0malfabeto\u001b[0m\u001b[1;33m.\u001b[0m\u001b[0minsert\u001b[0m\u001b[1;33m(\u001b[0m\u001b[1;36m0\u001b[0m\u001b[1;33m,\u001b[0m \u001b[1;34m\"A\"\u001b[0m\u001b[1;33m)\u001b[0m\u001b[1;33m\u001b[0m\u001b[1;33m\u001b[0m\u001b[0m\n\u001b[0m",
      "\u001b[1;31mAttributeError\u001b[0m: 'str' object has no attribute 'insert'"
     ]
    }
   ],
   "source": [
    "# Con la ausencia del metodo append() el metodo insert() tambien es ilegal\n",
    "alfabeto = \"abcdefghijklmnopqrstuvwxyz\"\n",
    "\n",
    "alfabeto.insert(0, \"A\")"
   ]
  },
  {
   "cell_type": "markdown",
   "metadata": {},
   "source": [
    "## Operacione Con Cadenas: Continuacion "
   ]
  },
  {
   "cell_type": "code",
   "execution_count": 74,
   "metadata": {},
   "outputs": [
    {
     "name": "stdout",
     "output_type": "stream",
     "text": [
      "abcdefghijklmnopqrstuvwxyz\n"
     ]
    }
   ],
   "source": [
    "# No hay que pensar que la inmutabilidad de una cadena limita tu capacidad de operar con ellas.\n",
    "# La unica consecuencia es que debes recordarlo e implementar tu codigo de una manera\n",
    "# Ligeramente diferente.\n",
    "\n",
    "# Esta forma de codigo es total mente aceptable, funcionara sin doblar las reglas de Python\n",
    "# Y treara el alfabeto latino completo a tu pantalla\n",
    "\n",
    "alfabeto = \"bcdefghijklmnopqrstuvwxy\"\n",
    "\n",
    "alfabeto = \"a\" + alfabeto\n",
    "alfabeto = alfabeto + \"z\"\n",
    "\n",
    "print(alfabeto)\n",
    "\n",
    "# NOTA: es posible que te preguntes si el crear una nueva copia de una cadena\n",
    "# Cada vez que se modifica su contenido empeorara la efectifidad del codigo?\n",
    "# Si lo hace, Un poco, pero sin embargo, no es un problema en absoluto"
   ]
  },
  {
   "cell_type": "markdown",
   "metadata": {},
   "source": [
    "## Operacione Con Cadenas : min()"
   ]
  },
  {
   "cell_type": "code",
   "execution_count": 79,
   "metadata": {},
   "outputs": [
    {
     "name": "stdout",
     "output_type": "stream",
     "text": [
      "A\n",
      "[ ]\n",
      "0\n"
     ]
    }
   ],
   "source": [
    "# Ahora que comprendemos que las cadenas son secuencias\n",
    "# Podemos mostrarte algunas capacidadesde secuencia menos obvias.\n",
    "# Se presentaran utilizando cadenas, pero no hay que olvidar que las listas\n",
    "# Tambien pueen adoptar los mismostrucos\n",
    "\n",
    "# NOTA: estafuncion encuentra el elemetno minimo de la secuencia pasada como argumento.\n",
    "# Existe una condicion - la secuencia (cadena o lista) no puede estar vacia, de lo contrario\n",
    "# Obtendriamos una excepcion ValueError.\n",
    "\n",
    "\n",
    "# Demonstrando min() - Ejemplo 1\n",
    "print(min(\"aAbByYzZ\"))\n",
    "\n",
    "# La salida del codigo es: A\n",
    "#NOTA: Es una A mayuscual, ya que devemos recordar la tabla ASCII\n",
    "# Que letras ocupan las primeras posiciones las mayusculas o las minusculas\n",
    "\n",
    "\n",
    "# Demonstrando min() - Examplos 2 y 3\n",
    "\n",
    "# Como podemos observar, presentan mas que solo cadenas.\n",
    "# El resultado sera: [ ] Y 0\n",
    "\n",
    "t = 'Los Caballeros Que Dicen \"¡Ni!\"'\n",
    "print('[' + min(t) + ']')\n",
    "\n",
    "t = [0, 1, 2]\n",
    "print(min(t))\n",
    "\n",
    "# Se utilizaron corchetes para evitar que el espacio pase por alto en nuestra pantalla"
   ]
  },
  {
   "cell_type": "markdown",
   "metadata": {},
   "source": [
    "## Operaciones Con Cadenas: max()"
   ]
  },
  {
   "cell_type": "code",
   "execution_count": 80,
   "metadata": {},
   "outputs": [
    {
     "name": "stdout",
     "output_type": "stream",
     "text": [
      "z\n",
      "[¡]\n",
      "2\n"
     ]
    }
   ],
   "source": [
    "# Del mismo Modo, una funcion llamada max()\n",
    "# Encuentra el elemento maximo de la secuencia.\n",
    "\n",
    "\n",
    "# Demostrando max() - Ejemplo 1\n",
    "print(max(\"aAbByYzZ\"))\n",
    "# La salida Sera: z\n",
    "\n",
    "# Demonstrando max() - Examplos 2 y 3\n",
    "\n",
    "# Ahora veremos la funcionmas() a los mismos datos del ejeplo anterio.\n",
    "# Observemos los ejemplos 2 y 3 en el editor, La salida sera: [¡] Y 2\n",
    "\n",
    "t = 'Los Caballeros Que Dicen \"¡Ni!\"'\n",
    "print('[' + max(t) + ']')\n",
    "\n",
    "t = [0, 1, 2]\n",
    "print(max(t))"
   ]
  },
  {
   "cell_type": "markdown",
   "metadata": {},
   "source": [
    "## Operaciones Con Cadenas: El Metodo idex()"
   ]
  },
  {
   "cell_type": "code",
   "execution_count": 85,
   "metadata": {},
   "outputs": [
    {
     "name": "stdout",
     "output_type": "stream",
     "text": [
      "2\n",
      "7\n",
      "1\n"
     ]
    }
   ],
   "source": [
    "# El merodo index() es un metodo no una funcion\n",
    "# Este metodo busca la secuencia desde el principio\n",
    "# Para encontrar el primer elemento del valor especificado en su argumento\n",
    "\n",
    "# NOTA: el elemento buscado debe aparecer en la secuencia \n",
    "# Su ausencia causara una excepcion ValueError\n",
    "\n",
    "# El elemento devuleve el indice de la primera aparicion del argumento\n",
    "# Lo que significa que el resultado mas bajo posible es 0\n",
    "# Mientras que el mas alto es la longitud del argumento decrementado por 1.\n",
    "\n",
    "# Demonstrando el método index()\n",
    "# LA SALIDA DEL EJEMPLO SERA: 2, 7, 1\n",
    "\n",
    "print(\"aAbByYzZaA\".index(\"b\"))\n",
    "print(\"aAbByYzZaA\".index(\"Z\"))\n",
    "print(\"aAbByYzZaA\".index(\"A\"))"
   ]
  },
  {
   "cell_type": "markdown",
   "metadata": {},
   "source": [
    "## Operaciones Con Cadenas: La Funcion list()"
   ]
  },
  {
   "cell_type": "code",
   "execution_count": 87,
   "metadata": {},
   "outputs": [
    {
     "name": "stdout",
     "output_type": "stream",
     "text": [
      "['a', 'b', 'c', 'a', 'b', 'c']\n"
     ]
    }
   ],
   "source": [
    "# La funcion list() toma su argumento (una cadena) y crea una\n",
    "# Nueva lista que contiene todos los caracteres de la cadena\n",
    "# Uno por elemento de la lista\n",
    "# NOTA: no es estrictamnete una funcion de cadenas- list() es capaz de crear una nueva\n",
    "# Lista de muchas otras entidades.\n",
    "\n",
    "# Demostrando la función list()\n",
    "# LA salida sera: ['a', 'b', 'c', 'a', 'b', 'c']\n",
    "print(list(\"abcabc\"))\n"
   ]
  },
  {
   "cell_type": "markdown",
   "metadata": {},
   "source": [
    "## Operaciones Con Cadenas: El Metodo count()"
   ]
  },
  {
   "cell_type": "code",
   "execution_count": 88,
   "metadata": {},
   "outputs": [
    {
     "name": "stdout",
     "output_type": "stream",
     "text": [
      "2\n",
      "0\n"
     ]
    }
   ],
   "source": [
    "# El metodo count() cuenta todas las apariciones del elemento dentro de la secuencia\n",
    "# Demostrando el método count()\n",
    "print(\"abcabc\".count(\"b\"))\n",
    "print('abcabc'.count(\"d\"))"
   ]
  },
  {
   "cell_type": "code",
   "execution_count": null,
   "metadata": {},
   "outputs": [],
   "source": []
  }
 ],
 "metadata": {
  "kernelspec": {
   "display_name": "Python 3",
   "language": "python",
   "name": "python3"
  },
  "language_info": {
   "codemirror_mode": {
    "name": "ipython",
    "version": 3
   },
   "file_extension": ".py",
   "mimetype": "text/x-python",
   "name": "python",
   "nbconvert_exporter": "python",
   "pygments_lexer": "ipython3",
   "version": "3.8.3"
  }
 },
 "nbformat": 4,
 "nbformat_minor": 4
}
