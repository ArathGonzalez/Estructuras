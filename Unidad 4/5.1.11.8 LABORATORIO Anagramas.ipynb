{
 "cells": [
  {
   "cell_type": "markdown",
   "metadata": {},
   "source": [
    "# ANAGRAMAS"
   ]
  },
  {
   "cell_type": "code",
   "execution_count": 5,
   "metadata": {},
   "outputs": [
    {
     "name": "stdout",
     "output_type": "stream",
     "text": [
      "Ingrese El Primer Texto: ELECTROMAGENTICO\n",
      "Ingrese El Segundo Texto: MAGNETOELECTRICO\n",
      "Si son anagramas\n"
     ]
    }
   ],
   "source": [
    "# pedimos 2 textos al usuario\n",
    "texto1 = input(\"Ingrese El Primer Texto: \")\n",
    "texto2 = input(\"Ingrese El Segundo Texto: \")\n",
    "\n",
    "\n",
    "#Definiremos nuestra funcion para realizar el procesos del programa\n",
    "def anagrama( texto1, texto2):\n",
    "\n",
    "    # Ahora lo que se hara sera convertir a minusculas los textos\n",
    "    texto1 = texto1.casefold()\n",
    "    texto2 = texto2.casefold()\n",
    "\n",
    "    # Ahora se eleminaran los espacios\n",
    "    texto1 = texto1.replace(\" \", \"\")\n",
    "    texto2 = texto2.replace(\" \", \"\")\n",
    "\n",
    "    # Ahora se comprobara si son anagramas o no\n",
    "    if (sorted(texto1) == sorted(texto2)):\n",
    "        print(\"Si son anagramas\")\n",
    "    else:\n",
    "        print(\"No son anagramas\")\n",
    "\n",
    "anagrama(texto1, texto2)"
   ]
  },
  {
   "cell_type": "code",
   "execution_count": null,
   "metadata": {},
   "outputs": [],
   "source": []
  }
 ],
 "metadata": {
  "kernelspec": {
   "display_name": "Python 3",
   "language": "python",
   "name": "python3"
  },
  "language_info": {
   "codemirror_mode": {
    "name": "ipython",
    "version": 3
   },
   "file_extension": ".py",
   "mimetype": "text/x-python",
   "name": "python",
   "nbconvert_exporter": "python",
   "pygments_lexer": "ipython3",
   "version": "3.8.3"
  }
 },
 "nbformat": 4,
 "nbformat_minor": 4
}
