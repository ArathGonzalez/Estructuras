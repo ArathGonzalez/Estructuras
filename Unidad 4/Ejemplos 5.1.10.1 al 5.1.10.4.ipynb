{
 "cells": [
  {
   "cell_type": "markdown",
   "metadata": {},
   "source": [
    "## Cadenas en acción\n",
    "# Comparando cadenas\n"
   ]
  },
  {
   "cell_type": "code",
   "execution_count": 19,
   "metadata": {},
   "outputs": [
    {
     "name": "stdout",
     "output_type": "stream",
     "text": [
      "True\n",
      "True\n"
     ]
    }
   ],
   "source": [
    "# Las cadenas en python o de python pueden se comparadas usando el mismo conjunto de operadores,\n",
    "# Que se emplean con los numeros\n",
    "\n",
    "# Operadores que pueden comprara cadenas:\n",
    "# ==\n",
    "# !=\n",
    "# >\n",
    "# >=\n",
    "# <\n",
    "# <=\n",
    "\n",
    "# Existe un \"pero\": los resultados de tales comparaciones a veces pueden ser un poco sorprendentes.\n",
    "# No olvides que Python no es consciente (no puede se de ninguna manera),\n",
    "# De problemas sutiles, simplemente compara valores de puntos de codigo, caracter por caracter.\n",
    "\n",
    "# Los resultas que se obtienen de una operacion de este tipo a veces son sorprendentes.\n",
    "\n",
    "\n",
    "# Dos cadenas son iguales cuando consisten en los mismos caracteres en el mismo orden.\n",
    "# Del mismo modo, dos cadenas no son iguales cuando no consisten en los mismoos caracteres en el mismo\n",
    "# Orden.\n",
    "\n",
    "print ('alfa' == 'alfa')\n",
    "print ('alfa' != 'Alfa')\n",
    "\n",
    "# La relacion final entre cadenas esta determinada por comparar el primer caracter diferente en\n",
    "# Ambas caenas (ten en cuenta los puntos de codigo ASCII/UNICODE en todo momento).\n",
    "\n"
   ]
  },
  {
   "cell_type": "code",
   "execution_count": 20,
   "metadata": {},
   "outputs": [
    {
     "name": "stdout",
     "output_type": "stream",
     "text": [
      "True\n"
     ]
    }
   ],
   "source": [
    "# Cuando se comparan dos cadenas de diferentes longitudes y la mas corta es identica a la mas larga,\n",
    "# La cadena mas larga se considera mayor.\n",
    "\n",
    "# por ejemplo:\n",
    "print('alfa' < 'alfabeto')\n",
    "\n"
   ]
  },
  {
   "cell_type": "code",
   "execution_count": 21,
   "metadata": {},
   "outputs": [
    {
     "name": "stdout",
     "output_type": "stream",
     "text": [
      "True\n"
     ]
    }
   ],
   "source": [
    "# La comparacion de cadenas siempre distingue entre mayusculas y minusculas\n",
    "# ( NOTA: las letras mayúsculas se consideran menores en comparación con las minúsculas).\n",
    "\n",
    "print('beta' > 'Beta')"
   ]
  },
  {
   "cell_type": "markdown",
   "metadata": {},
   "source": [
    "# Comaprando Cadenas: Continuacion"
   ]
  },
  {
   "cell_type": "code",
   "execution_count": 22,
   "metadata": {},
   "outputs": [
    {
     "name": "stdout",
     "output_type": "stream",
     "text": [
      "False\n",
      "True\n",
      "False\n",
      "True\n",
      "True\n"
     ]
    }
   ],
   "source": [
    "# Aún si una cadena contiene un solo digito, todavía no es un numero.\n",
    "# Se interpreta como lo que es, como cualquier otra cadena regular, y su aspecto numerico (potencial)\n",
    "# No se toma en cuenta, en ninguna manera.\n",
    "\n",
    "print('10' == '010')   # False\n",
    "print('10' > '010')    # True\n",
    "print('10' > '8')      # False    \n",
    "print('20' < '8')      # True\n",
    "print('20' < '80')     # True"
   ]
  },
  {
   "cell_type": "code",
   "execution_count": 23,
   "metadata": {},
   "outputs": [
    {
     "name": "stdout",
     "output_type": "stream",
     "text": [
      "False\n",
      "True\n",
      "False\n",
      "True\n"
     ]
    },
    {
     "ename": "TypeError",
     "evalue": "'>' not supported between instances of 'str' and 'int'",
     "output_type": "error",
     "traceback": [
      "\u001b[1;31m---------------------------------------------------------------------------\u001b[0m",
      "\u001b[1;31mTypeError\u001b[0m                                 Traceback (most recent call last)",
      "\u001b[1;32m<ipython-input-23-0ea38c372aac>\u001b[0m in \u001b[0;36m<module>\u001b[1;34m\u001b[0m\n\u001b[0;32m     10\u001b[0m \u001b[0mprint\u001b[0m\u001b[1;33m(\u001b[0m\u001b[1;34m'10'\u001b[0m \u001b[1;33m==\u001b[0m \u001b[1;36m1\u001b[0m\u001b[1;33m)\u001b[0m  \u001b[1;31m# Fasle\u001b[0m\u001b[1;33m\u001b[0m\u001b[1;33m\u001b[0m\u001b[0m\n\u001b[0;32m     11\u001b[0m \u001b[0mprint\u001b[0m\u001b[1;33m(\u001b[0m\u001b[1;34m'10'\u001b[0m \u001b[1;33m!=\u001b[0m \u001b[1;36m1\u001b[0m\u001b[1;33m)\u001b[0m   \u001b[1;31m# True\u001b[0m\u001b[1;33m\u001b[0m\u001b[1;33m\u001b[0m\u001b[0m\n\u001b[1;32m---> 12\u001b[1;33m \u001b[0mprint\u001b[0m\u001b[1;33m(\u001b[0m\u001b[1;34m'10'\u001b[0m \u001b[1;33m>\u001b[0m \u001b[1;36m10\u001b[0m\u001b[1;33m)\u001b[0m   \u001b[1;31m# TypeError\u001b[0m\u001b[1;33m\u001b[0m\u001b[1;33m\u001b[0m\u001b[0m\n\u001b[0m",
      "\u001b[1;31mTypeError\u001b[0m: '>' not supported between instances of 'str' and 'int'"
     ]
    }
   ],
   "source": [
    "# NOTA: Comparar cadenas contra números generalmente es una mala idea.\n",
    "# LAs unicas operaciones que se pueden realizar con impunidad son aquellas \n",
    "# Simbolizadas por los operadores == y !=.\n",
    "# El primero siempre devuelve False , mientras que el segundo siempre devuelve True.\n",
    "\n",
    "# El uso de cualquiera de los operadores de comparacion restantes generara una excepcion TypeError.\n",
    "\n",
    "print('10' == 10)  # False\n",
    "print('10' != 10)  # True \n",
    "print('10' == 1)   # False\n",
    "print('10' != 1)   # True\n",
    "print('10' > 10)   # TypeError"
   ]
  },
  {
   "cell_type": "markdown",
   "metadata": {},
   "source": [
    "# Ordenamiento"
   ]
  },
  {
   "cell_type": "code",
   "execution_count": 1,
   "metadata": {},
   "outputs": [
    {
     "name": "stdout",
     "output_type": "stream",
     "text": [
      "['omega', 'alfa', 'pi', 'gama']\n",
      "['alfa', 'gama', 'omega', 'pi']\n"
     ]
    }
   ],
   "source": [
    "# La comparación está estrechamente relacionada con el ordenamiento\n",
    "# (O más bien, el ordenamiento es, de hecho, un caso muy sofisticado de comparación).\n",
    "\n",
    "# Esta es una buena oportunidad para mostrar dos formas posibles de ordenar listas\n",
    "# Que contienen cadenas. Dichas operacion es muy común en el mundo real:\n",
    "# Cada que vez una lista de nombres, productos, titulos o ciudades esperas que este ordenada.\n",
    "\n",
    "# supongamos que deseamos ordenar la siguiente lista:\n",
    "# greek = ['omega', 'alfa', 'pi', 'gama']\n",
    "# En general Python ofrece dos formas diferentes de ordenar listas.\n",
    "\n",
    "# El primero se implementa con una función llamada sorted()\n",
    "\n",
    "# Demostración de la función sorted()\n",
    "firstGreek = ['omega', 'alfa', 'pi', 'gama']\n",
    "firstGreek2 = sorted(firstGreek)\n",
    "\n",
    "print(firstGreek)\n",
    "print(firstGreek2)\n",
    "\n",
    "# La función toma un argumento (una lista) y devuelve una nueva lista, con los elementos\n",
    "# ordenados el argumento. (NOTA: esta descripcion está un poco simplificada en comparación con la  \n",
    "# implementación real; lo discutiremos más adelante).\n",
    "# La lista original permanece intacta"
   ]
  },
  {
   "cell_type": "code",
   "execution_count": 2,
   "metadata": {},
   "outputs": [
    {
     "name": "stdout",
     "output_type": "stream",
     "text": [
      "['omega', 'alfa', 'pi', 'gama']\n",
      "['alfa', 'gama', 'omega', 'pi']\n"
     ]
    }
   ],
   "source": [
    "# El segundo método afecta a la lista misma- no se crea una nueva lista.\n",
    "# El ordenamiento se realiza por el metodo denominado sort()\n",
    "\n",
    "# Demostración del método sort()\n",
    "secondGreek = ['omega', 'alfa', 'pi', 'gama']\n",
    "print(secondGreek)\n",
    "\n",
    "secondGreek.sort()\n",
    "print(secondGreek)\n",
    "\n",
    "# Si necesitas un orden que no sea descendente,  debes convencer a la función o método de cambiar\n",
    "# su comportamiento predeterminado. Estos se dicutira pronto..."
   ]
  },
  {
   "cell_type": "markdown",
   "metadata": {},
   "source": [
    "# Cadenas contra números"
   ]
  },
  {
   "cell_type": "code",
   "execution_count": 3,
   "metadata": {},
   "outputs": [
    {
     "name": "stdout",
     "output_type": "stream",
     "text": [
      "13 1.3\n"
     ]
    }
   ],
   "source": [
    "# Hay dos cuestiones adicionales que deberían discutirse aquí: cómo convertir un número(un entero\n",
    "# o un flotante) en una cadena, y vicerversa.\n",
    "# Puede ser necesario realizar tal transformacion. Ademas es una forma rutinaria de procesar\n",
    "# Datos de entrada o salida.\n",
    "\n",
    "# La conversión de cadena a número es simple, ya que siempre es posible. \n",
    "# Se realiza mediante la función llamada str().\n",
    "\n",
    "itg = 13\n",
    "flt = 1.3\n",
    "si = str(itg)\n",
    "sf = str(flt)\n",
    "\n",
    "print(si + ' ' + sf)\n"
   ]
  },
  {
   "cell_type": "code",
   "execution_count": 4,
   "metadata": {},
   "outputs": [
    {
     "name": "stdout",
     "output_type": "stream",
     "text": [
      "14.3\n"
     ]
    }
   ],
   "source": [
    "# La tranformacion inversa solo es posible cuando la cadena representa un número válido.\n",
    "# Si no se cumple la condicion, espera una excepcion ValueError\n",
    "\n",
    "# Emplea la funcion int() si deseas obtener un entero, y float() si necesitas un valor punto flotante.\n",
    "\n",
    "# Por ejemplo:\n",
    "si = '13'\n",
    "sf = '1.3'\n",
    "itg = int(si)\n",
    "flt = float(sf)\n",
    "\n",
    "print(itg + flt)"
   ]
  },
  {
   "cell_type": "code",
   "execution_count": null,
   "metadata": {},
   "outputs": [],
   "source": []
  }
 ],
 "metadata": {
  "kernelspec": {
   "display_name": "Python 3",
   "language": "python",
   "name": "python3"
  },
  "language_info": {
   "codemirror_mode": {
    "name": "ipython",
    "version": 3
   },
   "file_extension": ".py",
   "mimetype": "text/x-python",
   "name": "python",
   "nbconvert_exporter": "python",
   "pygments_lexer": "ipython3",
   "version": "3.8.3"
  }
 },
 "nbformat": 4,
 "nbformat_minor": 4
}
