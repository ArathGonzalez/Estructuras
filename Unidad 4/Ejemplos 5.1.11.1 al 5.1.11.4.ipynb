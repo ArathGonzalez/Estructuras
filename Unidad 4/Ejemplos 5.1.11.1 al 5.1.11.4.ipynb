{
 "cells": [
  {
   "cell_type": "markdown",
   "metadata": {},
   "source": [
    "## Cuatro simples programas\n",
    "# El cifrado césar: encriptando un mensaje"
   ]
  },
  {
   "cell_type": "code",
   "execution_count": 10,
   "metadata": {},
   "outputs": [
    {
     "name": "stdout",
     "output_type": "stream",
     "text": [
      "Ingresa tu mensaje: VIVA ESPAÑA VIVA EL REY EL ORDEN Y LA LEY\n",
      "WJWBFTQBABWJWBFMSFZFMPSEFOZMBMFZ\n"
     ]
    }
   ],
   "source": [
    "# Te mostraremos cuatro programas simples para presentar algunos aspectos del procedimiento de cadenas\n",
    "# En python. Son intencionalmente simples, pero los problemas de laboratorio serán significativamente\n",
    "# más complicados.\n",
    "\n",
    "# El primer problema que se presentara se llama cifrado cesar.\n",
    "\n",
    "# Cifrado César\n",
    "# Esta es una implementacion muy simple (pero funcional) del algoritmo.\n",
    "\n",
    "text = input(\"Ingresa tu mensaje: \") #Pide al usuario que ingrese un mensaje(sin cifrar) de una linea\n",
    "cifrado = ''                         #Prepara una cadena para el mensaje cifrado(esta vacia por ahora)\n",
    "for char in text:                    #Inicia la iteracion a traves del mensaje\n",
    "    if not char.isalpha():           #Si el caracter no es alfabetico...\n",
    "        continue                     #...Ignoralo\n",
    "    char = char.upper()              #Convierta la letra a mayusculas(es preferible hacerlo a ciegas enves de verificas si es necesario o no)\n",
    "    code = ord(char) + 1             #Obten el codigo de la letra e incrementalo en uno\n",
    "    if code > ord('Z'):              #Si el codigo resultante ha dejado el alfabeto latino (si es mayor que el codigo de la z)...\n",
    "        code = ord('A')              # ...cambialo al codigo de la A\n",
    "    cifrado += chr(code)             #Agrega el caracter recibido al final del mensaje cifrado\n",
    "\n",
    "print(cifrado)                       #Imprime el cifrado\n",
    "\n",
    "# Este cifrado fue (probablemente) inventado y utilizado por Cayo Julio César y su tropas durante las\n",
    "# Guerras Galas. La idea es bastante simple:\n",
    "# Cada letra del mensaje se reemplaza por su consecuente más cercano\n",
    "# (A se convierte en B, B se convierte en c, y asi sucesivamente). \n",
    "# La unica excepcion es Z, la cual se convertira en A.\n",
    "\n",
    "# Se ha escritro utilizando los siguientes supuestos:\n",
    "# Solo acepta letras latinas(NOTA: los romanos no usaban espacion en blanco ni digitos)\n",
    "# Todas las letras del mensaje están en mayusculas(NOTA: los romanos solo conocian las mayusculas)"
   ]
  },
  {
   "cell_type": "markdown",
   "metadata": {},
   "source": [
    "# El cifrado césar: descifrando un mensaje"
   ]
  },
  {
   "cell_type": "code",
   "execution_count": 12,
   "metadata": {},
   "outputs": [
    {
     "name": "stdout",
     "output_type": "stream",
     "text": [
      "Ingresa tu criptograma: WJWBFTQBABWJWBFMSFZFMPSEFOZMBMFZ\n",
      "VIVAESPAZAVIVAELREYELORDENYLALEY\n"
     ]
    }
   ],
   "source": [
    "# La operación inversa ahora deberia ser clara para ti: solo presentamos el codigo tal como esta\n",
    "# Sin ninguna explicacion\n",
    "\n",
    "# Cifrado César - descifrar un mensaje\n",
    "cifrado = input('Ingresa tu criptograma: ')\n",
    "text = ''\n",
    "for char in cifrado:\n",
    "    if not char.isalpha():\n",
    "        continue\n",
    "    char = char.upper()\n",
    "    code = ord(char) - 1\n",
    "    if code < ord('A'):\n",
    "        code = ord('Z')\n",
    "    text += chr(code)\n",
    "\n",
    "print(text)"
   ]
  },
  {
   "cell_type": "markdown",
   "metadata": {},
   "source": [
    "# El procesador de números"
   ]
  },
  {
   "cell_type": "code",
   "execution_count": 28,
   "metadata": {},
   "outputs": [
    {
     "name": "stdout",
     "output_type": "stream",
     "text": [
      "Ingresa una línea de números, sepáralos con espacios: 7 12 93\n",
      "El total es: 112.0\n"
     ]
    }
   ],
   "source": [
    "# Este tercer programa muestra un método simple que permite ingresar una linea llena de numeros\n",
    "# Y sumarlos facilmente. \n",
    "# NOTA:la funcion input(), combinada junto con las funciones int() o float()\n",
    "# No es lo adecuado para este proposito.\n",
    "\n",
    "# El procesamiento será extremadamente fácil: queremos que se sumen los numeros.\n",
    "        \n",
    "# Emplear lista puede hacer que el codigo sea mas pequeño. Puedes hacerlo si quieres.\n",
    "\n",
    "linea = input(\"Ingresa una línea de números, sepáralos con espacios: \") #Pide al usuario que ingrese una linea llena de cualquier cantidad de numeros(estos pueden ser flotantes) \n",
    "strings = linea.split()                                                 #Divide la linea en una lista con subcadenas\n",
    "total = 0                                                               #Se incializa la suma total a cero\n",
    "try:                                                                    #Como la conversion de cadena a flotante puede generar una excepcion, es mejor continuar con la proteccion del bloque tryexcept\n",
    "    for substr in strings:                                              #Itera a traves de la lista...\n",
    "        total += float(substr)                                          #... e intenta convertir todos sus elementos en numeros flotantes; si funciona, aumenta la suma\n",
    "    if total == 0:                                                      # Se coorrige el error\n",
    "        print(\" \")                                                      #Imprime una linea en blanco\n",
    "    else:                                                               #Si no...\n",
    "        print(\"El total es:\", total)                                    #Todo esta bien hasta ahora, asi que imprime la suma\n",
    "except:                                                                 #El programa termina aqui en caso de error\n",
    "    print(substr, \"no es un numero.\")                                   #Imprime un mensaje de diagnostico que muestra al usuario el motivo del error\n",
    "    "
   ]
  },
  {
   "cell_type": "markdown",
   "metadata": {},
   "source": [
    "# El validador IBAN"
   ]
  },
  {
   "cell_type": "code",
   "execution_count": 36,
   "metadata": {},
   "outputs": [
    {
     "name": "stdout",
     "output_type": "stream",
     "text": [
      "Ingresa IBAN, por favor: GB72 HBZU 7006 7212 1253 00\n",
      "El IBAN ingresado es válido.\n"
     ]
    }
   ],
   "source": [
    "# El cuarto programa implementa(en una forma ligeramente simplificada) un algoritmo utilizado por los\n",
    "# Bancos europeos para especificar los numeros de cuenta. El estandar llamado IBAN\n",
    "# (numero de cuenta bancaria internacional) proporciona un metodo simple y bastante confiable para\n",
    "# Validar los numeros de cuenta contra errores tipograficos simples que pueden ocurrir durante la\n",
    "# Reescritura del numero, por ejemplo, de documentos en papel, como facturas o facturas en las computadoras\n",
    "\n",
    "#Un numero de cuenta compatible con IBAN consta de:\n",
    "\n",
    "#Un código de país de dos letras tomado del estándar ISO 3166-1 (por ejemplo, FR para Francia, GB para Gran Bretaña DE para Alemania, y así sucesivamente).\n",
    "#Dos dígitos de verificación utilizados para realizar las verificaciones de validez: pruebas rápidas y simples, pero no totalmente confiables, que muestran si un número es inválido (distorsionado por un error tipográfico) o valido.\n",
    "#El número de cuenta real (hasta 30 caracteres alfanuméricos; la longitud de esa parte depende del país).\n",
    "\n",
    "# Validador IBAN\n",
    "\n",
    "iban = input(\"Ingresa IBAN, por favor: \") #Pide al usuario que ingrese el IBAN( el numero puede contener espacios, ya que mejoran significativamente la legibilidad del numero...\n",
    "iban = iban.replace(' ','')               #... pero remueve los espacios de inmediato)\n",
    "if not iban.isalnum():                    #El IBAN ingresado debe constar solo de digitos y letras, de lo cotrario...\n",
    "    print(\"Has introducido caracteres no válidos.\") #... muestra un mensaje.\n",
    "elif len(iban) < 15:                                #El IBAN no debe tener menos de 15 caracteres(esta es la variante mas corta, utilizada en Noruega)\n",
    "    print(\"El IBAN ingresado es demasiado corto.\")  #Si es mas corto, se informa al usuario\n",
    "elif len(iban) > 31:                                #Ademas, el IBAN no puede tener mas de 31 caracteres( estas es la variante mas larga, utilizada en Malta)\n",
    "    print(\"El IBAN ingresado es demasiado largo.\")  #Si es mas largo, se le informa al usuario\n",
    "else:                                               #Se comienza con el procesamiento\n",
    "    iban = (iban[4:] + iban[0:4]).upper()           #Se mueven los cuatro caracteres iniciales al final del numero y se convierten todas las letras a mayusculas(paso 02 del algoritmo)\n",
    "    iban2 = ''                                      #Esta es la variable utilizada para completar el numero, creada al reemplazar las letras con digitos(de acuerdo con el paso 03 del algoritmo)\n",
    "    for ch in iban:                                 # Iterar a traves del IBAN\n",
    "        if ch.isdigit():                            #Si el caracter es un digito...\n",
    "            iban2 += ch                             #Se copia\n",
    "        else:                                       #De lo contrario...\n",
    "            iban2 += str(10 + ord(ch) - ord('A'))   #...Conviertelo en dos digitos(observa como se hace aqui)\n",
    "    ibann = int(iban2)                              #La forma convertida del IBAN esta lista: ahora se convierte en un numero entero\n",
    "    if ibann % 97 == 1:                             #¿el residuo de la division de iban2 entre 97 es igual a 1?\n",
    "        print(\"El IBAN ingresado es válido.\")       #Si es asi, entonces el numero es correcto\n",
    "    else:                                           #De lo contrario...\n",
    "        print(\"El IBAN ingresado no es válido.\")    #...el numero no es valido.\n",
    "    "
   ]
  },
  {
   "cell_type": "code",
   "execution_count": null,
   "metadata": {},
   "outputs": [],
   "source": []
  },
  {
   "cell_type": "code",
   "execution_count": null,
   "metadata": {},
   "outputs": [],
   "source": []
  }
 ],
 "metadata": {
  "kernelspec": {
   "display_name": "Python 3",
   "language": "python",
   "name": "python3"
  },
  "language_info": {
   "codemirror_mode": {
    "name": "ipython",
    "version": 3
   },
   "file_extension": ".py",
   "mimetype": "text/x-python",
   "name": "python",
   "nbconvert_exporter": "python",
   "pygments_lexer": "ipython3",
   "version": "3.8.3"
  }
 },
 "nbformat": 4,
 "nbformat_minor": 4
}
