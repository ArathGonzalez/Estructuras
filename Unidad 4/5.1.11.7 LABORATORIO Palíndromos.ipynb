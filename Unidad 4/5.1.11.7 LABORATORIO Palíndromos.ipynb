{
 "cells": [
  {
   "cell_type": "markdown",
   "metadata": {},
   "source": [
    "# PALINDROMOS"
   ]
  },
  {
   "cell_type": "code",
   "execution_count": 13,
   "metadata": {},
   "outputs": [
    {
     "name": "stdout",
     "output_type": "stream",
     "text": [
      "Ingrese un Texto: MENEM\n",
      "Si Es Un Palindromo\n"
     ]
    }
   ],
   "source": [
    "# Nota: Un palíndromo es una palabra que se ve igual cuando\n",
    "# Se lee hacia adelante y hacia atrás.\n",
    "\n",
    "texto = input(\"Ingrese un Texto: \")\n",
    "\n",
    "# Aqui se utiliza el metodo casefold para tomar las letras mayusculas\n",
    "# y minusculoas como iguales (Ya que el el metodo casefold te regresa\n",
    "# una cadena donde todos los caracteres estan en minusculas.\n",
    "texto = texto.casefold()\n",
    "\n",
    "# Aqui utilizamos este metodo para que los espacios no se tomen en cuenta\n",
    "# Durante la verificacion: Se tratan como inexistentes\n",
    "# Este método reemplaza una frase especificada con otra frase especificada\n",
    "texto = texto.replace(\" \", \"\")\n",
    "\n",
    "# Aqui se revierte nuestro texto para espues comprobar si es un palindromo\n",
    "textoinv = reversed(texto)\n",
    "\n",
    "# Ahora se hace la comprobacion si son palindormos o no, utilizando if\n",
    "if list(texto) == list(textoinv):\n",
    "    print(\"Si Es Un Palindromo\")\n",
    "else:\n",
    "    print(\"No Es Un Palindromo\")"
   ]
  },
  {
   "cell_type": "code",
   "execution_count": null,
   "metadata": {},
   "outputs": [],
   "source": []
  },
  {
   "cell_type": "code",
   "execution_count": null,
   "metadata": {},
   "outputs": [],
   "source": []
  }
 ],
 "metadata": {
  "kernelspec": {
   "display_name": "Python 3",
   "language": "python",
   "name": "python3"
  },
  "language_info": {
   "codemirror_mode": {
    "name": "ipython",
    "version": 3
   },
   "file_extension": ".py",
   "mimetype": "text/x-python",
   "name": "python",
   "nbconvert_exporter": "python",
   "pygments_lexer": "ipython3",
   "version": "3.8.3"
  }
 },
 "nbformat": 4,
 "nbformat_minor": 4
}
