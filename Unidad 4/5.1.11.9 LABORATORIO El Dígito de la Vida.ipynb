{
 "cells": [
  {
   "cell_type": "code",
   "execution_count": 39,
   "metadata": {},
   "outputs": [
    {
     "name": "stdout",
     "output_type": "stream",
     "text": [
      "Ingrese Su Fecha De Cumpleaños Con Digitos: 20000101\n",
      "4\n"
     ]
    }
   ],
   "source": [
    "c = int(input(\"Ingrese Su Fecha De Cumpleaños Con Digitos: \"))\n",
    "\n",
    "def DigitoDeLaVida(c):\n",
    "    suma = 0\n",
    "# Este ciclo se utiliza pára sumar los numeros que hemos ingresado\n",
    "    while c:\n",
    "        suma += c%10\n",
    "        c //= 10\n",
    "# Esto indica que los digitos no pueden resultar mayor a 9\n",
    "    if suma > 9:\n",
    "        return DigitoDeLaVida(suma)\n",
    "    \n",
    "    return suma\n",
    "\n",
    "print(DigitoDeLaVida(c))"
   ]
  },
  {
   "cell_type": "code",
   "execution_count": null,
   "metadata": {},
   "outputs": [],
   "source": []
  }
 ],
 "metadata": {
  "kernelspec": {
   "display_name": "Python 3",
   "language": "python",
   "name": "python3"
  },
  "language_info": {
   "codemirror_mode": {
    "name": "ipython",
    "version": 3
   },
   "file_extension": ".py",
   "mimetype": "text/x-python",
   "name": "python",
   "nbconvert_exporter": "python",
   "pygments_lexer": "ipython3",
   "version": "3.8.3"
  }
 },
 "nbformat": 4,
 "nbformat_minor": 4
}
